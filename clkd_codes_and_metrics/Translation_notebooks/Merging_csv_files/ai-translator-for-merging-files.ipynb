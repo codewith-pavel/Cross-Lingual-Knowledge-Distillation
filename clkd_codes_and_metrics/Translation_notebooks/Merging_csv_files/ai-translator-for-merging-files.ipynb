{
 "cells": [
  {
   "cell_type": "code",
   "execution_count": 1,
   "id": "8eed6f59",
   "metadata": {
    "execution": {
     "iopub.execute_input": "2024-12-06T10:42:17.663085Z",
     "iopub.status.busy": "2024-12-06T10:42:17.662790Z",
     "iopub.status.idle": "2024-12-06T10:42:26.879231Z",
     "shell.execute_reply": "2024-12-06T10:42:26.878144Z"
    },
    "papermill": {
     "duration": 9.222984,
     "end_time": "2024-12-06T10:42:26.881398",
     "exception": false,
     "start_time": "2024-12-06T10:42:17.658414",
     "status": "completed"
    },
    "tags": []
   },
   "outputs": [
    {
     "name": "stdout",
     "output_type": "stream",
     "text": [
      "Requirement already satisfied: pandas in /opt/conda/lib/python3.10/site-packages (2.2.3)\r\n",
      "Requirement already satisfied: openpyxl in /opt/conda/lib/python3.10/site-packages (3.1.5)\r\n",
      "Requirement already satisfied: numpy>=1.22.4 in /opt/conda/lib/python3.10/site-packages (from pandas) (1.26.4)\r\n",
      "Requirement already satisfied: python-dateutil>=2.8.2 in /opt/conda/lib/python3.10/site-packages (from pandas) (2.9.0.post0)\r\n",
      "Requirement already satisfied: pytz>=2020.1 in /opt/conda/lib/python3.10/site-packages (from pandas) (2024.1)\r\n",
      "Requirement already satisfied: tzdata>=2022.7 in /opt/conda/lib/python3.10/site-packages (from pandas) (2024.1)\r\n",
      "Requirement already satisfied: et-xmlfile in /opt/conda/lib/python3.10/site-packages (from openpyxl) (2.0.0)\r\n",
      "Requirement already satisfied: six>=1.5 in /opt/conda/lib/python3.10/site-packages (from python-dateutil>=2.8.2->pandas) (1.16.0)\r\n"
     ]
    }
   ],
   "source": [
    "!pip install pandas openpyxl"
   ]
  },
  {
   "cell_type": "markdown",
   "id": "508b4d67",
   "metadata": {
    "papermill": {
     "duration": 0.002507,
     "end_time": "2024-12-06T10:42:26.886950",
     "exception": false,
     "start_time": "2024-12-06T10:42:26.884443",
     "status": "completed"
    },
    "tags": []
   },
   "source": [
    "# AI Translator"
   ]
  },
  {
   "cell_type": "markdown",
   "id": "760498e7",
   "metadata": {
    "papermill": {
     "duration": 0.002423,
     "end_time": "2024-12-06T10:42:26.891895",
     "exception": false,
     "start_time": "2024-12-06T10:42:26.889472",
     "status": "completed"
    },
    "tags": []
   },
   "source": [
    "# **LOS**"
   ]
  },
  {
   "cell_type": "markdown",
   "id": "539c0dd8",
   "metadata": {
    "papermill": {
     "duration": 0.002442,
     "end_time": "2024-12-06T10:42:26.897008",
     "exception": false,
     "start_time": "2024-12-06T10:42:26.894566",
     "status": "completed"
    },
    "tags": []
   },
   "source": [
    "**Train**"
   ]
  },
  {
   "cell_type": "code",
   "execution_count": 2,
   "id": "ca3e17a9",
   "metadata": {
    "execution": {
     "iopub.execute_input": "2024-12-06T10:42:26.903816Z",
     "iopub.status.busy": "2024-12-06T10:42:26.903489Z",
     "iopub.status.idle": "2024-12-06T10:42:43.107848Z",
     "shell.execute_reply": "2024-12-06T10:42:43.106978Z"
    },
    "papermill": {
     "duration": 16.20992,
     "end_time": "2024-12-06T10:42:43.109532",
     "exception": false,
     "start_time": "2024-12-06T10:42:26.899612",
     "status": "completed"
    },
    "tags": []
   },
   "outputs": [
    {
     "data": {
      "text/plain": [
       "'/kaggle/working/LOS_WEEKS_adm_train.csv'"
      ]
     },
     "execution_count": 2,
     "metadata": {},
     "output_type": "execute_result"
    }
   ],
   "source": [
    "# Step 3: Import pandas\n",
    "import pandas as pd\n",
    "\n",
    "# Step 4: Read the Excel files into pandas dataframes\n",
    "file1 = pd.read_excel('/kaggle/input/ai-sheets/AI_Translated/MIMIC_III/LOS/train/LOS_WEEKS_adm_train_part_1.xlsx')  # Replace with the name of your first file\n",
    "file2 = pd.read_excel('/kaggle/input/ai-sheets/AI_Translated/MIMIC_III/LOS/train/LOS_WEEKS_adm_train_part_2.xlsx')  # Replace with the name of your first file\n",
    "file3 = pd.read_excel('/kaggle/input/ai-sheets/AI_Translated/MIMIC_III/LOS/train/LOS_WEEKS_adm_train_part_3.xlsx')  # Replace with the name of your first file\n",
    "file4 = pd.read_excel('/kaggle/input/ai-sheets/AI_Translated/MIMIC_III/LOS/train/LOS_WEEKS_adm_train_part_4.xlsx')  # Replace with the name of your first file\n",
    "file5 = pd.read_excel('/kaggle/input/ai-sheets/AI_Translated/MIMIC_III/LOS/train/LOS_WEEKS_adm_train_part_5.xlsx')  # Replace with the name of your first file\n",
    "file6 = pd.read_excel('/kaggle/input/ai-sheets/AI_Translated/MIMIC_III/LOS/train/LOS_WEEKS_adm_train_part_6.xlsx')  # Replace with the name of your first file\n",
    "file7 = pd.read_excel('/kaggle/input/ai-sheets/AI_Translated/MIMIC_III/LOS/train/LOS_WEEKS_adm_train_part_7.xlsx')  # Replace with the name of your first file\n",
    "file8 = pd.read_excel('/kaggle/input/ai-sheets/AI_Translated/MIMIC_III/LOS/train/LOS_WEEKS_adm_train_part_8.xlsx')  # Replace with the name of your first file\n",
    "file9 = pd.read_excel('/kaggle/input/ai-sheets/AI_Translated/MIMIC_III/LOS/train/LOS_WEEKS_adm_train_part_9.xlsx')  # Replace with the name of your first file\n",
    "file10 = pd.read_excel('/kaggle/input/ai-sheets/AI_Translated/MIMIC_III/LOS/train/LOS_WEEKS_adm_train_part_10.xlsx')  # Replace with the name of your first file\n",
    "file11 = pd.read_excel('/kaggle/input/ai-sheets/AI_Translated/MIMIC_III/LOS/train/LOS_WEEKS_adm_train_part_11.xlsx')  # Replace with the name of your first file\n",
    "file12 = pd.read_excel('/kaggle/input/ai-sheets/AI_Translated/MIMIC_III/LOS/train/LOS_WEEKS_adm_train_part_12.xlsx')  # Replace with the name of your first file\n",
    "file13 = pd.read_excel('/kaggle/input/ai-sheets/AI_Translated/MIMIC_III/LOS/train/LOS_WEEKS_adm_train_part_13.xlsx')  # Replace with the name of your first file\n",
    "file14 = pd.read_excel('/kaggle/input/ai-sheets/AI_Translated/MIMIC_III/LOS/train/LOS_WEEKS_adm_train_part_14.xlsx')  # Replace with the name of your first file\n",
    "file15 = pd.read_excel('/kaggle/input/ai-sheets/AI_Translated/MIMIC_III/LOS/train/LOS_WEEKS_adm_train_part_15.xlsx')  # Replace with the name of your first file\n",
    "file16 = pd.read_excel('/kaggle/input/ai-sheets/AI_Translated/MIMIC_III/LOS/train/LOS_WEEKS_adm_train_part_16.xlsx')  # Replace with the name of your first file\n",
    "file17 = pd.read_excel('/kaggle/input/ai-sheets/AI_Translated/MIMIC_III/LOS/train/LOS_WEEKS_adm_train_part_17.xlsx')  # Replace with the name of your first file\n",
    "file18 = pd.read_excel('/kaggle/input/ai-sheets/AI_Translated/MIMIC_III/LOS/train/LOS_WEEKS_adm_train_part_18.xlsx')  # Replace with the name of your first file\n",
    "file19 = pd.read_excel('/kaggle/input/ai-sheets/AI_Translated/MIMIC_III/LOS/train/LOS_WEEKS_adm_train_part_19.xlsx')  # Replace with the name of your first file\n",
    "file20 = pd.read_excel('/kaggle/input/ai-sheets/AI_Translated/MIMIC_III/LOS/train/LOS_WEEKS_adm_train_part_20.xlsx')  # Replace with the name of your first file\n",
    "file21 = pd.read_excel('/kaggle/input/ai-sheets/AI_Translated/MIMIC_III/LOS/train/LOS_WEEKS_adm_train_part_21.xlsx')  # Replace with the name of your first file\n",
    "file22 = pd.read_excel('/kaggle/input/ai-sheets/AI_Translated/MIMIC_III/LOS/train/LOS_WEEKS_adm_train_part_22.xlsx')  # Replace with the name of your first file\n",
    "file23 = pd.read_excel('/kaggle/input/ai-sheets/AI_Translated/MIMIC_III/LOS/train/LOS_WEEKS_adm_train_part_23.xlsx')  # Replace with the name of your first file\n",
    "file24 = pd.read_excel('/kaggle/input/ai-sheets/AI_Translated/MIMIC_III/LOS/train/LOS_WEEKS_adm_train_part_24.xlsx')  # Replace with the name of your first file\n",
    "file25 = pd.read_excel('/kaggle/input/ai-sheets/AI_Translated/MIMIC_III/LOS/train/LOS_WEEKS_adm_train_part_25.xlsx')  # Replace with the name of your first file\n",
    "file26 = pd.read_excel('/kaggle/input/ai-sheets/AI_Translated/MIMIC_III/LOS/train/LOS_WEEKS_adm_train_part_26.xlsx')  # Replace with the name of your first file\n",
    "file27 = pd.read_excel('/kaggle/input/ai-sheets/AI_Translated/MIMIC_III/LOS/train/LOS_WEEKS_adm_train_part_27.xlsx')  # Replace with the name of your first file\n",
    "file28 = pd.read_excel('/kaggle/input/ai-sheets/AI_Translated/MIMIC_III/LOS/train/LOS_WEEKS_adm_train_part_28.xlsx')  # Replace with the name of your first file\n",
    "file29 = pd.read_excel('/kaggle/input/ai-sheets/AI_Translated/MIMIC_III/LOS/train/LOS_WEEKS_adm_train_part_29.xlsx')  # Replace with the name of your first file\n",
    "file30 = pd.read_excel('/kaggle/input/ai-sheets/AI_Translated/MIMIC_III/LOS/train/LOS_WEEKS_adm_train_part_30.xlsx')  # Replace with the name of your first file\n",
    "file31 = pd.read_excel('/kaggle/input/ai-sheets/AI_Translated/MIMIC_III/LOS/train/LOS_WEEKS_adm_train_part_31.xlsx')  # Replace with the name of your first file\n",
    "# Step 5: Merge the dataframes (if you want to concatenate by rows)\n",
    "merged_df = pd.concat([file1, file2, file3, file4, file5, file6, file7, \n",
    "                       file8, file9, file10,file11, file12, file13, file14, \n",
    "                       file15, file16, file17, file18, file19, file20,file21, \n",
    "                       file22, file23, file24, file25, file26, file27, file28, \n",
    "                       file29, file30,file31], ignore_index=True)\n",
    "\n",
    "# Step 6: Save the merged dataframe into a CSV file\n",
    "merged_df.to_csv('/kaggle/working/LOS_WEEKS_adm_train.csv', index=False)\n",
    "\n",
    "# If you want to see the CSV file and download it later from the Kaggle output:\n",
    "import shutil\n",
    "shutil.move('/kaggle/working/LOS_WEEKS_adm_train.csv', '/kaggle/working/LOS_WEEKS_adm_train.csv')"
   ]
  },
  {
   "cell_type": "markdown",
   "id": "4e4cc7c6",
   "metadata": {
    "papermill": {
     "duration": 0.002691,
     "end_time": "2024-12-06T10:42:43.116234",
     "exception": false,
     "start_time": "2024-12-06T10:42:43.113543",
     "status": "completed"
    },
    "tags": []
   },
   "source": [
    "**Validation**"
   ]
  },
  {
   "cell_type": "code",
   "execution_count": 3,
   "id": "1af63e9d",
   "metadata": {
    "execution": {
     "iopub.execute_input": "2024-12-06T10:42:43.122625Z",
     "iopub.status.busy": "2024-12-06T10:42:43.122346Z",
     "iopub.status.idle": "2024-12-06T10:42:45.428327Z",
     "shell.execute_reply": "2024-12-06T10:42:45.427501Z"
    },
    "papermill": {
     "duration": 2.311302,
     "end_time": "2024-12-06T10:42:45.430182",
     "exception": false,
     "start_time": "2024-12-06T10:42:43.118880",
     "status": "completed"
    },
    "tags": []
   },
   "outputs": [
    {
     "data": {
      "text/plain": [
       "'/kaggle/working/LOS_WEEKS_adm_val.csv'"
      ]
     },
     "execution_count": 3,
     "metadata": {},
     "output_type": "execute_result"
    }
   ],
   "source": [
    "# Step 3: Import pandas\n",
    "import pandas as pd\n",
    "\n",
    "# Step 4: Read the Excel files into pandas dataframes\n",
    "file1 = pd.read_excel('/kaggle/input/ai-sheets/AI_Translated/MIMIC_III/LOS/val/LOS_WEEKS_adm_val_part_1.xlsx')  # Replace with the name of your first file\n",
    "file2 = pd.read_excel('/kaggle/input/ai-sheets/AI_Translated/MIMIC_III/LOS/val/LOS_WEEKS_adm_val_part_2.xlsx')  # Replace with the name of your first file\n",
    "file3 = pd.read_excel('/kaggle/input/ai-sheets/AI_Translated/MIMIC_III/LOS/val/LOS_WEEKS_adm_val_part_3.xlsx')  # Replace with the name of your first file\n",
    "file4 = pd.read_excel('/kaggle/input/ai-sheets/AI_Translated/MIMIC_III/LOS/val/LOS_WEEKS_adm_val_part_4.xlsx')  # Replace with the name of your first file\n",
    "file5 = pd.read_excel('/kaggle/input/ai-sheets/AI_Translated/MIMIC_III/LOS/val/LOS_WEEKS_adm_val_part_5.xlsx')  # Replace with the name of your first file\n",
    "# Step 5: Merge the dataframes (if you want to concatenate by rows)\n",
    "merged_df = pd.concat([file1, file2, file3, file4, file5], ignore_index=True)\n",
    "\n",
    "# Step 6: Save the merged dataframe into a CSV file\n",
    "merged_df.to_csv('/kaggle/working/LOS_WEEKS_adm_val.csv', index=False)\n",
    "\n",
    "# If you want to see the CSV file and download it later from the Kaggle output:\n",
    "import shutil\n",
    "shutil.move('/kaggle/working/LOS_WEEKS_adm_val.csv', '/kaggle/working/LOS_WEEKS_adm_val.csv')"
   ]
  },
  {
   "cell_type": "markdown",
   "id": "4b23ab3f",
   "metadata": {
    "papermill": {
     "duration": 0.002745,
     "end_time": "2024-12-06T10:42:45.435974",
     "exception": false,
     "start_time": "2024-12-06T10:42:45.433229",
     "status": "completed"
    },
    "tags": []
   },
   "source": [
    "**Test**"
   ]
  },
  {
   "cell_type": "code",
   "execution_count": 4,
   "id": "354d3dad",
   "metadata": {
    "execution": {
     "iopub.execute_input": "2024-12-06T10:42:45.443009Z",
     "iopub.status.busy": "2024-12-06T10:42:45.442356Z",
     "iopub.status.idle": "2024-12-06T10:42:50.006558Z",
     "shell.execute_reply": "2024-12-06T10:42:50.005739Z"
    },
    "papermill": {
     "duration": 4.569665,
     "end_time": "2024-12-06T10:42:50.008376",
     "exception": false,
     "start_time": "2024-12-06T10:42:45.438711",
     "status": "completed"
    },
    "tags": []
   },
   "outputs": [
    {
     "data": {
      "text/plain": [
       "'/kaggle/working/LOS_WEEKS_adm_test.csv'"
      ]
     },
     "execution_count": 4,
     "metadata": {},
     "output_type": "execute_result"
    }
   ],
   "source": [
    "# Step 3: Import pandas\n",
    "import pandas as pd\n",
    "\n",
    "# Step 4: Read the Excel files into pandas dataframes\n",
    "file1 = pd.read_excel('/kaggle/input/ai-sheets/AI_Translated/MIMIC_III/LOS/test/LOS_WEEKS_adm_test_part_1.xlsx')  # Replace with the name of your first file\n",
    "file2 = pd.read_excel('/kaggle/input/ai-sheets/AI_Translated/MIMIC_III/LOS/test/LOS_WEEKS_adm_test_part_2.xlsx')  # Replace with the name of your first file\n",
    "file3 = pd.read_excel('/kaggle/input/ai-sheets/AI_Translated/MIMIC_III/LOS/test/LOS_WEEKS_adm_test_part_3.xlsx')  # Replace with the name of your first file\n",
    "file4 = pd.read_excel('/kaggle/input/ai-sheets/AI_Translated/MIMIC_III/LOS/test/LOS_WEEKS_adm_test_part_4.xlsx')  # Replace with the name of your first file\n",
    "file5 = pd.read_excel('/kaggle/input/ai-sheets/AI_Translated/MIMIC_III/LOS/test/LOS_WEEKS_adm_test_part_5.xlsx')  # Replace with the name of your first file\n",
    "file6 = pd.read_excel('/kaggle/input/ai-sheets/AI_Translated/MIMIC_III/LOS/test/LOS_WEEKS_adm_test_part_6.xlsx')  # Replace with the name of your first file\n",
    "file7 = pd.read_excel('/kaggle/input/ai-sheets/AI_Translated/MIMIC_III/LOS/test/LOS_WEEKS_adm_test_part_7.xlsx')  # Replace with the name of your first file\n",
    "file8 = pd.read_excel('/kaggle/input/ai-sheets/AI_Translated/MIMIC_III/LOS/test/LOS_WEEKS_adm_test_part_8.xlsx')  # Replace with the name of your first file\n",
    "file9 = pd.read_excel('/kaggle/input/ai-sheets/AI_Translated/MIMIC_III/LOS/test/LOS_WEEKS_adm_test_part_9.xlsx')  # Replace with the name of your first file\n",
    "\n",
    "# Step 5: Merge the dataframes (if you want to concatenate by rows)\n",
    "merged_df = pd.concat([file1, file2, file3, file4, file5, file6, file7, file8, file9], ignore_index=True)\n",
    "\n",
    "# Step 6: Save the merged dataframe into a CSV file\n",
    "merged_df.to_csv('/kaggle/working/LOS_WEEKS_adm_test.csv', index=False)\n",
    "\n",
    "# If you want to see the CSV file and download it later from the Kaggle output:\n",
    "import shutil\n",
    "shutil.move('/kaggle/working/LOS_WEEKS_adm_test.csv', '/kaggle/working/LOS_WEEKS_adm_test.csv')"
   ]
  },
  {
   "cell_type": "markdown",
   "id": "485c9234",
   "metadata": {
    "papermill": {
     "duration": 0.002846,
     "end_time": "2024-12-06T10:42:50.014396",
     "exception": false,
     "start_time": "2024-12-06T10:42:50.011550",
     "status": "completed"
    },
    "tags": []
   },
   "source": [
    "# **MP**"
   ]
  },
  {
   "cell_type": "markdown",
   "id": "608018e6",
   "metadata": {
    "papermill": {
     "duration": 0.002676,
     "end_time": "2024-12-06T10:42:50.019957",
     "exception": false,
     "start_time": "2024-12-06T10:42:50.017281",
     "status": "completed"
    },
    "tags": []
   },
   "source": [
    " **Train**"
   ]
  },
  {
   "cell_type": "code",
   "execution_count": 5,
   "id": "66c544b5",
   "metadata": {
    "execution": {
     "iopub.execute_input": "2024-12-06T10:42:50.027449Z",
     "iopub.status.busy": "2024-12-06T10:42:50.027184Z",
     "iopub.status.idle": "2024-12-06T10:43:07.601537Z",
     "shell.execute_reply": "2024-12-06T10:43:07.600745Z"
    },
    "papermill": {
     "duration": 17.58051,
     "end_time": "2024-12-06T10:43:07.603321",
     "exception": false,
     "start_time": "2024-12-06T10:42:50.022811",
     "status": "completed"
    },
    "tags": []
   },
   "outputs": [
    {
     "data": {
      "text/plain": [
       "'/kaggle/working/MP_IN_adm_train.csv'"
      ]
     },
     "execution_count": 5,
     "metadata": {},
     "output_type": "execute_result"
    }
   ],
   "source": [
    "# Step 3: Import pandas\n",
    "import pandas as pd\n",
    "\n",
    "# Step 4: Read the Excel files into pandas dataframes\n",
    "file1 = pd.read_excel('/kaggle/input/ai-sheets/AI_Translated/MIMIC_III/MP/train/MP_IN_adm_train_part_1.xlsx')  # Replace with the name of your first file\n",
    "file2 = pd.read_excel('/kaggle/input/ai-sheets/AI_Translated/MIMIC_III/MP/train/MP_IN_adm_train_part_2.xlsx')  # Replace with the name of your first file\n",
    "file3 = pd.read_excel('/kaggle/input/ai-sheets/AI_Translated/MIMIC_III/MP/train/MP_IN_adm_train_part_3.xlsx')  # Replace with the name of your first file\n",
    "file4 = pd.read_excel('/kaggle/input/ai-sheets/AI_Translated/MIMIC_III/MP/train/MP_IN_adm_train_part_4.xlsx')  # Replace with the name of your first file\n",
    "file5 = pd.read_excel('/kaggle/input/ai-sheets/AI_Translated/MIMIC_III/MP/train/MP_IN_adm_train_part_5.xlsx')  # Replace with the name of your first file\n",
    "file6 = pd.read_excel('/kaggle/input/ai-sheets/AI_Translated/MIMIC_III/MP/train/MP_IN_adm_train_part_6.xlsx')  # Replace with the name of your first file\n",
    "file7 = pd.read_excel('/kaggle/input/ai-sheets/AI_Translated/MIMIC_III/MP/train/MP_IN_adm_train_part_7.xlsx')  # Replace with the name of your first file\n",
    "file8 = pd.read_excel('/kaggle/input/ai-sheets/AI_Translated/MIMIC_III/MP/train/MP_IN_adm_train_part_8.xlsx')  # Replace with the name of your first file\n",
    "file9 = pd.read_excel('/kaggle/input/ai-sheets/AI_Translated/MIMIC_III/MP/train/MP_IN_adm_train_part_9.xlsx')  # Replace with the name of your first file\n",
    "file10 = pd.read_excel('/kaggle/input/ai-sheets/AI_Translated/MIMIC_III/MP/train/MP_IN_adm_train_part_10.xlsx')  # Replace with the name of your first file\n",
    "file11 = pd.read_excel('/kaggle/input/ai-sheets/AI_Translated/MIMIC_III/MP/train/MP_IN_adm_train_part_11.xlsx')  # Replace with the name of your first file\n",
    "file12 = pd.read_excel('/kaggle/input/ai-sheets/AI_Translated/MIMIC_III/MP/train/MP_IN_adm_train_part_12.xlsx')  # Replace with the name of your first file\n",
    "file13 = pd.read_excel('/kaggle/input/ai-sheets/AI_Translated/MIMIC_III/MP/train/MP_IN_adm_train_part_13.xlsx')  # Replace with the name of your first file\n",
    "file14 = pd.read_excel('/kaggle/input/ai-sheets/AI_Translated/MIMIC_III/MP/train/MP_IN_adm_train_part_14.xlsx')  # Replace with the name of your first file\n",
    "file15 = pd.read_excel('/kaggle/input/ai-sheets/AI_Translated/MIMIC_III/MP/train/MP_IN_adm_train_part_15.xlsx')  # Replace with the name of your first file\n",
    "file16 = pd.read_excel('/kaggle/input/ai-sheets/AI_Translated/MIMIC_III/MP/train/MP_IN_adm_train_part_16.xlsx')  # Replace with the name of your first file\n",
    "file17 = pd.read_excel('/kaggle/input/ai-sheets/AI_Translated/MIMIC_III/MP/train/MP_IN_adm_train_part_17.xlsx')  # Replace with the name of your first file\n",
    "file18 = pd.read_excel('/kaggle/input/ai-sheets/AI_Translated/MIMIC_III/MP/train/MP_IN_adm_train_part_18.xlsx')  # Replace with the name of your first file\n",
    "file19 = pd.read_excel('/kaggle/input/ai-sheets/AI_Translated/MIMIC_III/MP/train/MP_IN_adm_train_part_19.xlsx')  # Replace with the name of your first file\n",
    "file20 = pd.read_excel('/kaggle/input/ai-sheets/AI_Translated/MIMIC_III/MP/train/MP_IN_adm_train_part_20.xlsx')  # Replace with the name of your first file\n",
    "file21 = pd.read_excel('/kaggle/input/ai-sheets/AI_Translated/MIMIC_III/MP/train/MP_IN_adm_train_part_21.xlsx')  # Replace with the name of your first file\n",
    "file22 = pd.read_excel('/kaggle/input/ai-sheets/AI_Translated/MIMIC_III/MP/train/MP_IN_adm_train_part_22.xlsx')  # Replace with the name of your first file\n",
    "file23 = pd.read_excel('/kaggle/input/ai-sheets/AI_Translated/MIMIC_III/MP/train/MP_IN_adm_train_part_23.xlsx')  # Replace with the name of your first file\n",
    "file24 = pd.read_excel('/kaggle/input/ai-sheets/AI_Translated/MIMIC_III/MP/train/MP_IN_adm_train_part_24.xlsx')  # Replace with the name of your first file\n",
    "file25 = pd.read_excel('/kaggle/input/ai-sheets/AI_Translated/MIMIC_III/MP/train/MP_IN_adm_train_part_25.xlsx')  # Replace with the name of your first file\n",
    "file26 = pd.read_excel('/kaggle/input/ai-sheets/AI_Translated/MIMIC_III/MP/train/MP_IN_adm_train_part_26.xlsx')  # Replace with the name of your first file\n",
    "file27 = pd.read_excel('/kaggle/input/ai-sheets/AI_Translated/MIMIC_III/MP/train/MP_IN_adm_train_part_27.xlsx')  # Replace with the name of your first file\n",
    "file28 = pd.read_excel('/kaggle/input/ai-sheets/AI_Translated/MIMIC_III/MP/train/MP_IN_adm_train_part_28.xlsx')  # Replace with the name of your first file\n",
    "file29 = pd.read_excel('/kaggle/input/ai-sheets/AI_Translated/MIMIC_III/MP/train/MP_IN_adm_train_part_29.xlsx')  # Replace with the name of your first file\n",
    "file30 = pd.read_excel('/kaggle/input/ai-sheets/AI_Translated/MIMIC_III/MP/train/MP_IN_adm_train_part_30.xlsx')  # Replace with the name of your first file\n",
    "file31 = pd.read_excel('/kaggle/input/ai-sheets/AI_Translated/MIMIC_III/MP/train/MP_IN_adm_train_part_31.xlsx')  # Replace with the name of your first file\n",
    "file32 = pd.read_excel('/kaggle/input/ai-sheets/AI_Translated/MIMIC_III/MP/train/MP_IN_adm_train_part_32.xlsx')  # Replace with the name of your first file\n",
    "file33 = pd.read_excel('/kaggle/input/ai-sheets/AI_Translated/MIMIC_III/MP/train/MP_IN_adm_train_part_33.xlsx')  # Replace with the name of your first file\n",
    "file34 = pd.read_excel('/kaggle/input/ai-sheets/AI_Translated/MIMIC_III/MP/train/MP_IN_adm_train_part_34.xlsx')  # Replace with the name of your first file\n",
    "# Step 5: Merge the dataframes (if you want to concatenate by rows)\n",
    "merged_df = pd.concat([file1, file2, file3, file4, file5, file6, file7, \n",
    "                       file8, file9, file10,file11, file12, file13, file14, \n",
    "                       file15, file16, file17, file18, file19, file20,file21, \n",
    "                       file22, file23, file24, file25, file26, file27, file28, \n",
    "                       file29, file30,file31,file32,file33,file34], ignore_index=True)\n",
    "\n",
    "# Step 6: Save the merged dataframe into a CSV file\n",
    "merged_df.to_csv('/kaggle/working/MP_IN_adm_train.csv', index=False)\n",
    "\n",
    "# If you want to see the CSV file and download it later from the Kaggle output:\n",
    "import shutil\n",
    "shutil.move('/kaggle/working/MP_IN_adm_train.csv', '/kaggle/working/MP_IN_adm_train.csv')"
   ]
  },
  {
   "cell_type": "markdown",
   "id": "0a297f57",
   "metadata": {
    "papermill": {
     "duration": 0.002962,
     "end_time": "2024-12-06T10:43:07.609582",
     "exception": false,
     "start_time": "2024-12-06T10:43:07.606620",
     "status": "completed"
    },
    "tags": []
   },
   "source": [
    " **Validation**"
   ]
  },
  {
   "cell_type": "code",
   "execution_count": 6,
   "id": "8de1317f",
   "metadata": {
    "execution": {
     "iopub.execute_input": "2024-12-06T10:43:07.617095Z",
     "iopub.status.busy": "2024-12-06T10:43:07.616394Z",
     "iopub.status.idle": "2024-12-06T10:43:10.131594Z",
     "shell.execute_reply": "2024-12-06T10:43:10.130715Z"
    },
    "papermill": {
     "duration": 2.520714,
     "end_time": "2024-12-06T10:43:10.133307",
     "exception": false,
     "start_time": "2024-12-06T10:43:07.612593",
     "status": "completed"
    },
    "tags": []
   },
   "outputs": [
    {
     "data": {
      "text/plain": [
       "'/kaggle/working/MP_IN_adm_val.csv'"
      ]
     },
     "execution_count": 6,
     "metadata": {},
     "output_type": "execute_result"
    }
   ],
   "source": [
    "# Step 3: Import pandas\n",
    "import pandas as pd\n",
    "\n",
    "# Step 4: Read the Excel files into pandas dataframes\n",
    "file1 = pd.read_excel('/kaggle/input/ai-sheets/AI_Translated/MIMIC_III/MP/val/MP_IN_adm_val_part_1.xlsx')  # Replace with the name of your first file\n",
    "file2 = pd.read_excel('/kaggle/input/ai-sheets/AI_Translated/MIMIC_III/MP/val/MP_IN_adm_val_part_2.xlsx')  # Replace with the name of your first file\n",
    "file3 = pd.read_excel('/kaggle/input/ai-sheets/AI_Translated/MIMIC_III/MP/val/MP_IN_adm_val_part_3.xlsx')  # Replace with the name of your first file\n",
    "file4 = pd.read_excel('/kaggle/input/ai-sheets/AI_Translated/MIMIC_III/MP/val/MP_IN_adm_val_part_4.xlsx')  # Replace with the name of your first file\n",
    "file5 = pd.read_excel('/kaggle/input/ai-sheets/AI_Translated/MIMIC_III/MP/val/MP_IN_adm_val_part_5.xlsx')  # Replace with the name of your first file\n",
    "# Step 5: Merge the dataframes (if you want to concatenate by rows)\n",
    "merged_df = pd.concat([file1, file2, file3, file4, file5], ignore_index=True)\n",
    "\n",
    "# Step 6: Save the merged dataframe into a CSV file\n",
    "merged_df.to_csv('/kaggle/working/MP_IN_adm_val.csv', index=False)\n",
    "\n",
    "# If you want to see the CSV file and download it later from the Kaggle output:\n",
    "import shutil\n",
    "shutil.move('/kaggle/working/MP_IN_adm_val.csv', '/kaggle/working/MP_IN_adm_val.csv')"
   ]
  },
  {
   "cell_type": "markdown",
   "id": "15ee4e8c",
   "metadata": {
    "papermill": {
     "duration": 0.003086,
     "end_time": "2024-12-06T10:43:10.139911",
     "exception": false,
     "start_time": "2024-12-06T10:43:10.136825",
     "status": "completed"
    },
    "tags": []
   },
   "source": [
    "**Test**"
   ]
  },
  {
   "cell_type": "code",
   "execution_count": 7,
   "id": "064f9571",
   "metadata": {
    "execution": {
     "iopub.execute_input": "2024-12-06T10:43:10.147923Z",
     "iopub.status.busy": "2024-12-06T10:43:10.147579Z",
     "iopub.status.idle": "2024-12-06T10:43:14.929602Z",
     "shell.execute_reply": "2024-12-06T10:43:14.928724Z"
    },
    "papermill": {
     "duration": 4.78817,
     "end_time": "2024-12-06T10:43:14.931299",
     "exception": false,
     "start_time": "2024-12-06T10:43:10.143129",
     "status": "completed"
    },
    "tags": []
   },
   "outputs": [
    {
     "data": {
      "text/plain": [
       "'/kaggle/working/MP_IN_adm_test.csv'"
      ]
     },
     "execution_count": 7,
     "metadata": {},
     "output_type": "execute_result"
    }
   ],
   "source": [
    "# Step 3: Import pandas\n",
    "import pandas as pd\n",
    "\n",
    "# Step 4: Read the Excel files into pandas dataframes\n",
    "file1 = pd.read_excel('/kaggle/input/ai-sheets/AI_Translated/MIMIC_III/MP/test/MP_IN_adm_test_part_1.xlsx')  # Replace with the name of your first file\n",
    "file2 = pd.read_excel('/kaggle/input/ai-sheets/AI_Translated/MIMIC_III/MP/test/MP_IN_adm_test_part_2.xlsx')  # Replace with the name of your first file\n",
    "file3 = pd.read_excel('/kaggle/input/ai-sheets/AI_Translated/MIMIC_III/MP/test/MP_IN_adm_test_part_3.xlsx')  # Replace with the name of your first file\n",
    "file4 = pd.read_excel('/kaggle/input/ai-sheets/AI_Translated/MIMIC_III/MP/test/MP_IN_adm_test_part_4.xlsx')  # Replace with the name of your first file\n",
    "file5 = pd.read_excel('/kaggle/input/ai-sheets/AI_Translated/MIMIC_III/MP/test/MP_IN_adm_test_part_5.xlsx')  # Replace with the name of your first file\n",
    "file6 = pd.read_excel('/kaggle/input/ai-sheets/AI_Translated/MIMIC_III/MP/test/MP_IN_adm_test_part_6.xlsx')  # Replace with the name of your first file\n",
    "file7 = pd.read_excel('/kaggle/input/ai-sheets/AI_Translated/MIMIC_III/MP/test/MP_IN_adm_test_part_7.xlsx')  # Replace with the name of your first file\n",
    "file8 = pd.read_excel('/kaggle/input/ai-sheets/AI_Translated/MIMIC_III/MP/test/MP_IN_adm_test_part_8.xlsx')  # Replace with the name of your first file\n",
    "file9 = pd.read_excel('/kaggle/input/ai-sheets/AI_Translated/MIMIC_III/MP/test/MP_IN_adm_test_part_9.xlsx')  # Replace with the name of your first file\n",
    "\n",
    "# Step 5: Merge the dataframes (if you want to concatenate by rows)\n",
    "merged_df = pd.concat([file1, file2, file3, file4, file5, file6, file7, file8, file9], ignore_index=True)\n",
    "\n",
    "# Step 6: Save the merged dataframe into a CSV file\n",
    "merged_df.to_csv('/kaggle/working/MP_IN_adm_test.csv', index=False)\n",
    "\n",
    "# If you want to see the CSV file and download it later from the Kaggle output:\n",
    "import shutil\n",
    "shutil.move('/kaggle/working/MP_IN_adm_test.csv', '/kaggle/working/MP_IN_adm_test.csv')"
   ]
  }
 ],
 "metadata": {
  "kaggle": {
   "accelerator": "none",
   "dataSources": [
    {
     "datasetId": 6243090,
     "sourceId": 10118406,
     "sourceType": "datasetVersion"
    },
    {
     "datasetId": 6243150,
     "sourceId": 10118480,
     "sourceType": "datasetVersion"
    }
   ],
   "isGpuEnabled": false,
   "isInternetEnabled": true,
   "language": "python",
   "sourceType": "notebook"
  },
  "kernelspec": {
   "display_name": "Python 3",
   "language": "python",
   "name": "python3"
  },
  "language_info": {
   "codemirror_mode": {
    "name": "ipython",
    "version": 3
   },
   "file_extension": ".py",
   "mimetype": "text/x-python",
   "name": "python",
   "nbconvert_exporter": "python",
   "pygments_lexer": "ipython3",
   "version": "3.10.14"
  },
  "papermill": {
   "default_parameters": {},
   "duration": 60.105872,
   "end_time": "2024-12-06T10:43:15.353185",
   "environment_variables": {},
   "exception": null,
   "input_path": "__notebook__.ipynb",
   "output_path": "__notebook__.ipynb",
   "parameters": {},
   "start_time": "2024-12-06T10:42:15.247313",
   "version": "2.6.0"
  }
 },
 "nbformat": 4,
 "nbformat_minor": 5
}
