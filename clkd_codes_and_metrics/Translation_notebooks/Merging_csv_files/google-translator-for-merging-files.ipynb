{
 "cells": [
  {
   "cell_type": "code",
   "execution_count": 1,
   "id": "0b151292",
   "metadata": {
    "execution": {
     "iopub.execute_input": "2024-12-06T10:42:15.808859Z",
     "iopub.status.busy": "2024-12-06T10:42:15.808605Z",
     "iopub.status.idle": "2024-12-06T10:42:25.072826Z",
     "shell.execute_reply": "2024-12-06T10:42:25.071958Z"
    },
    "papermill": {
     "duration": 9.270215,
     "end_time": "2024-12-06T10:42:25.074877",
     "exception": false,
     "start_time": "2024-12-06T10:42:15.804662",
     "status": "completed"
    },
    "tags": []
   },
   "outputs": [
    {
     "name": "stdout",
     "output_type": "stream",
     "text": [
      "Requirement already satisfied: pandas in /opt/conda/lib/python3.10/site-packages (2.2.3)\r\n",
      "Requirement already satisfied: openpyxl in /opt/conda/lib/python3.10/site-packages (3.1.5)\r\n",
      "Requirement already satisfied: numpy>=1.22.4 in /opt/conda/lib/python3.10/site-packages (from pandas) (1.26.4)\r\n",
      "Requirement already satisfied: python-dateutil>=2.8.2 in /opt/conda/lib/python3.10/site-packages (from pandas) (2.9.0.post0)\r\n",
      "Requirement already satisfied: pytz>=2020.1 in /opt/conda/lib/python3.10/site-packages (from pandas) (2024.1)\r\n",
      "Requirement already satisfied: tzdata>=2022.7 in /opt/conda/lib/python3.10/site-packages (from pandas) (2024.1)\r\n",
      "Requirement already satisfied: et-xmlfile in /opt/conda/lib/python3.10/site-packages (from openpyxl) (2.0.0)\r\n",
      "Requirement already satisfied: six>=1.5 in /opt/conda/lib/python3.10/site-packages (from python-dateutil>=2.8.2->pandas) (1.16.0)\r\n"
     ]
    }
   ],
   "source": [
    "!pip install pandas openpyxl"
   ]
  },
  {
   "cell_type": "markdown",
   "id": "278488c4",
   "metadata": {
    "papermill": {
     "duration": 0.002595,
     "end_time": "2024-12-06T10:42:25.080606",
     "exception": false,
     "start_time": "2024-12-06T10:42:25.078011",
     "status": "completed"
    },
    "tags": []
   },
   "source": [
    "# Google Translator"
   ]
  },
  {
   "cell_type": "markdown",
   "id": "c30fecda",
   "metadata": {
    "papermill": {
     "duration": 0.002639,
     "end_time": "2024-12-06T10:42:25.085871",
     "exception": false,
     "start_time": "2024-12-06T10:42:25.083232",
     "status": "completed"
    },
    "tags": []
   },
   "source": [
    "# **LOS**"
   ]
  },
  {
   "cell_type": "markdown",
   "id": "7b28d251",
   "metadata": {
    "papermill": {
     "duration": 0.002396,
     "end_time": "2024-12-06T10:42:25.090839",
     "exception": false,
     "start_time": "2024-12-06T10:42:25.088443",
     "status": "completed"
    },
    "tags": []
   },
   "source": [
    "**Train**"
   ]
  },
  {
   "cell_type": "code",
   "execution_count": 2,
   "id": "b73409ee",
   "metadata": {
    "execution": {
     "iopub.execute_input": "2024-12-06T10:42:25.097818Z",
     "iopub.status.busy": "2024-12-06T10:42:25.097511Z",
     "iopub.status.idle": "2024-12-06T10:42:49.074881Z",
     "shell.execute_reply": "2024-12-06T10:42:49.074016Z"
    },
    "papermill": {
     "duration": 23.983257,
     "end_time": "2024-12-06T10:42:49.076699",
     "exception": false,
     "start_time": "2024-12-06T10:42:25.093442",
     "status": "completed"
    },
    "tags": []
   },
   "outputs": [
    {
     "data": {
      "text/plain": [
       "'/kaggle/working/LOS_WEEKS_adm_train.csv'"
      ]
     },
     "execution_count": 2,
     "metadata": {},
     "output_type": "execute_result"
    }
   ],
   "source": [
    "# Step 3: Import pandas\n",
    "import pandas as pd\n",
    "\n",
    "# Step 4: Read the Excel files into pandas dataframes\n",
    "file1 = pd.read_excel('/kaggle/input/google-translate/Google_Translated/MIMIC_III/LOS/train/LOS_WEEKS_adm_train_part_1.xlsx')  # Replace with the name of your first file\n",
    "file2 = pd.read_excel('/kaggle/input/google-translate/Google_Translated/MIMIC_III/LOS/train/LOS_WEEKS_adm_train_part_2.xlsx')  # Replace with the name of your first file\n",
    "file3 = pd.read_excel('/kaggle/input/google-translate/Google_Translated/MIMIC_III/LOS/train/LOS_WEEKS_adm_train_part_3.xlsx')  # Replace with the name of your first file\n",
    "file4 = pd.read_excel('/kaggle/input/google-translate/Google_Translated/MIMIC_III/LOS/train/LOS_WEEKS_adm_train_part_4.xlsx')  # Replace with the name of your first file\n",
    "file5 = pd.read_excel('/kaggle/input/google-translate/Google_Translated/MIMIC_III/LOS/train/LOS_WEEKS_adm_train_part_5.xlsx')  # Replace with the name of your first file\n",
    "file6 = pd.read_excel('/kaggle/input/google-translate/Google_Translated/MIMIC_III/LOS/train/LOS_WEEKS_adm_train_part_6.xlsx')  # Replace with the name of your first file\n",
    "file7 = pd.read_excel('/kaggle/input/google-translate/Google_Translated/MIMIC_III/LOS/train/LOS_WEEKS_adm_train_part_7.xlsx')  # Replace with the name of your first file\n",
    "file8 = pd.read_excel('/kaggle/input/google-translate/Google_Translated/MIMIC_III/LOS/train/LOS_WEEKS_adm_train_part_8.xlsx')  # Replace with the name of your first file\n",
    "file9 = pd.read_excel('/kaggle/input/google-translate/Google_Translated/MIMIC_III/LOS/train/LOS_WEEKS_adm_train_part_9.xlsx')  # Replace with the name of your first file\n",
    "file10 = pd.read_excel('/kaggle/input/google-translate/Google_Translated/MIMIC_III/LOS/train/LOS_WEEKS_adm_train_part_10.xlsx')  # Replace with the name of your first file\n",
    "file11 = pd.read_excel('/kaggle/input/google-translate/Google_Translated/MIMIC_III/LOS/train/LOS_WEEKS_adm_train_part_11.xlsx')  # Replace with the name of your first file\n",
    "file12 = pd.read_excel('/kaggle/input/google-translate/Google_Translated/MIMIC_III/LOS/train/LOS_WEEKS_adm_train_part_12.xlsx')  # Replace with the name of your first file\n",
    "file13 = pd.read_excel('/kaggle/input/google-translate/Google_Translated/MIMIC_III/LOS/train/LOS_WEEKS_adm_train_part_13.xlsx')  # Replace with the name of your first file\n",
    "file14 = pd.read_excel('/kaggle/input/google-translate/Google_Translated/MIMIC_III/LOS/train/LOS_WEEKS_adm_train_part_14.xlsx')  # Replace with the name of your first file\n",
    "file15 = pd.read_excel('/kaggle/input/google-translate/Google_Translated/MIMIC_III/LOS/train/LOS_WEEKS_adm_train_part_15.xlsx')  # Replace with the name of your first file\n",
    "file16 = pd.read_excel('/kaggle/input/google-translate/Google_Translated/MIMIC_III/LOS/train/LOS_WEEKS_adm_train_part_16.xlsx')  # Replace with the name of your first file\n",
    "file17 = pd.read_excel('/kaggle/input/google-translate/Google_Translated/MIMIC_III/LOS/train/LOS_WEEKS_adm_train_part_17.xlsx')  # Replace with the name of your first file\n",
    "file18 = pd.read_excel('/kaggle/input/google-translate/Google_Translated/MIMIC_III/LOS/train/LOS_WEEKS_adm_train_part_18.xlsx')  # Replace with the name of your first file\n",
    "file19 = pd.read_excel('/kaggle/input/google-translate/Google_Translated/MIMIC_III/LOS/train/LOS_WEEKS_adm_train_part_19.xlsx')  # Replace with the name of your first file\n",
    "file20 = pd.read_excel('/kaggle/input/google-translate/Google_Translated/MIMIC_III/LOS/train/LOS_WEEKS_adm_train_part_20.xlsx')  # Replace with the name of your first file\n",
    "file21 = pd.read_excel('/kaggle/input/google-translate/Google_Translated/MIMIC_III/LOS/train/LOS_WEEKS_adm_train_part_21.xlsx')  # Replace with the name of your first file\n",
    "file22 = pd.read_excel('/kaggle/input/google-translate/Google_Translated/MIMIC_III/LOS/train/LOS_WEEKS_adm_train_part_22.xlsx')  # Replace with the name of your first file\n",
    "file23 = pd.read_excel('/kaggle/input/google-translate/Google_Translated/MIMIC_III/LOS/train/LOS_WEEKS_adm_train_part_23.xlsx')  # Replace with the name of your first file\n",
    "file24 = pd.read_excel('/kaggle/input/google-translate/Google_Translated/MIMIC_III/LOS/train/LOS_WEEKS_adm_train_part_24.xlsx')  # Replace with the name of your first file\n",
    "file25 = pd.read_excel('/kaggle/input/google-translate/Google_Translated/MIMIC_III/LOS/train/LOS_WEEKS_adm_train_part_25.xlsx')  # Replace with the name of your first file\n",
    "file26 = pd.read_excel('/kaggle/input/google-translate/Google_Translated/MIMIC_III/LOS/train/LOS_WEEKS_adm_train_part_26.xlsx')  # Replace with the name of your first file\n",
    "file27 = pd.read_excel('/kaggle/input/google-translate/Google_Translated/MIMIC_III/LOS/train/LOS_WEEKS_adm_train_part_27.xlsx')  # Replace with the name of your first file\n",
    "file28 = pd.read_excel('/kaggle/input/google-translate/Google_Translated/MIMIC_III/LOS/train/LOS_WEEKS_adm_train_part_28.xlsx')  # Replace with the name of your first file\n",
    "file29 = pd.read_excel('/kaggle/input/google-translate/Google_Translated/MIMIC_III/LOS/train/LOS_WEEKS_adm_train_part_29.xlsx')  # Replace with the name of your first file\n",
    "file30 = pd.read_excel('/kaggle/input/google-translate/Google_Translated/MIMIC_III/LOS/train/LOS_WEEKS_adm_train_part_30.xlsx')  # Replace with the name of your first file\n",
    "file31 = pd.read_excel('/kaggle/input/google-translate/Google_Translated/MIMIC_III/LOS/train/LOS_WEEKS_adm_train_part_31.xlsx')  # Replace with the name of your first file\n",
    "# Step 5: Merge the dataframes (if you want to concatenate by rows)\n",
    "merged_df = pd.concat([file1, file2, file3, file4, file5, file6, file7, \n",
    "                       file8, file9, file10,file11, file12, file13, file14, \n",
    "                       file15, file16, file17, file18, file19, file20,file21, \n",
    "                       file22, file23, file24, file25, file26, file27, file28, \n",
    "                       file29, file30,file31], ignore_index=True)\n",
    "\n",
    "# Step 6: Save the merged dataframe into a CSV file\n",
    "merged_df.to_csv('/kaggle/working/LOS_WEEKS_adm_train.csv', index=False)\n",
    "\n",
    "# If you want to see the CSV file and download it later from the Kaggle output:\n",
    "import shutil\n",
    "shutil.move('/kaggle/working/LOS_WEEKS_adm_train.csv', '/kaggle/working/LOS_WEEKS_adm_train.csv')"
   ]
  },
  {
   "cell_type": "markdown",
   "id": "d9ccfa60",
   "metadata": {
    "papermill": {
     "duration": 0.002735,
     "end_time": "2024-12-06T10:42:49.083640",
     "exception": false,
     "start_time": "2024-12-06T10:42:49.080905",
     "status": "completed"
    },
    "tags": []
   },
   "source": [
    "**Validation**"
   ]
  },
  {
   "cell_type": "code",
   "execution_count": 3,
   "id": "c1933899",
   "metadata": {
    "execution": {
     "iopub.execute_input": "2024-12-06T10:42:49.090494Z",
     "iopub.status.busy": "2024-12-06T10:42:49.090193Z",
     "iopub.status.idle": "2024-12-06T10:42:52.591554Z",
     "shell.execute_reply": "2024-12-06T10:42:52.590655Z"
    },
    "papermill": {
     "duration": 3.506653,
     "end_time": "2024-12-06T10:42:52.593215",
     "exception": false,
     "start_time": "2024-12-06T10:42:49.086562",
     "status": "completed"
    },
    "tags": []
   },
   "outputs": [
    {
     "data": {
      "text/plain": [
       "'/kaggle/working/LOS_WEEKS_adm_val.csv'"
      ]
     },
     "execution_count": 3,
     "metadata": {},
     "output_type": "execute_result"
    }
   ],
   "source": [
    "# Step 3: Import pandas\n",
    "import pandas as pd\n",
    "\n",
    "# Step 4: Read the Excel files into pandas dataframes\n",
    "file1 = pd.read_excel('/kaggle/input/google-translate/Google_Translated/MIMIC_III/LOS/val/LOS_WEEKS_adm_val_part_1.xlsx')  # Replace with the name of your first file\n",
    "file2 = pd.read_excel('/kaggle/input/google-translate/Google_Translated/MIMIC_III/LOS/val/LOS_WEEKS_adm_val_part_2.xlsx')  # Replace with the name of your first file\n",
    "file3 = pd.read_excel('/kaggle/input/google-translate/Google_Translated/MIMIC_III/LOS/val/LOS_WEEKS_adm_val_part_3.xlsx')  # Replace with the name of your first file\n",
    "file4 = pd.read_excel('/kaggle/input/google-translate/Google_Translated/MIMIC_III/LOS/val/LOS_WEEKS_adm_val_part_4.xlsx')  # Replace with the name of your first file\n",
    "file5 = pd.read_excel('/kaggle/input/google-translate/Google_Translated/MIMIC_III/LOS/val/LOS_WEEKS_adm_val_part_5.xlsx')  # Replace with the name of your first file\n",
    "# Step 5: Merge the dataframes (if you want to concatenate by rows)\n",
    "merged_df = pd.concat([file1, file2, file3, file4, file5], ignore_index=True)\n",
    "\n",
    "# Step 6: Save the merged dataframe into a CSV file\n",
    "merged_df.to_csv('/kaggle/working/LOS_WEEKS_adm_val.csv', index=False)\n",
    "\n",
    "# If you want to see the CSV file and download it later from the Kaggle output:\n",
    "import shutil\n",
    "shutil.move('/kaggle/working/LOS_WEEKS_adm_val.csv', '/kaggle/working/LOS_WEEKS_adm_val.csv')"
   ]
  },
  {
   "cell_type": "markdown",
   "id": "46ca36c5",
   "metadata": {
    "papermill": {
     "duration": 0.002827,
     "end_time": "2024-12-06T10:42:52.599160",
     "exception": false,
     "start_time": "2024-12-06T10:42:52.596333",
     "status": "completed"
    },
    "tags": []
   },
   "source": [
    "**Test**"
   ]
  },
  {
   "cell_type": "code",
   "execution_count": 4,
   "id": "03562e1b",
   "metadata": {
    "execution": {
     "iopub.execute_input": "2024-12-06T10:42:52.606069Z",
     "iopub.status.busy": "2024-12-06T10:42:52.605782Z",
     "iopub.status.idle": "2024-12-06T10:42:59.248218Z",
     "shell.execute_reply": "2024-12-06T10:42:59.247338Z"
    },
    "papermill": {
     "duration": 6.648165,
     "end_time": "2024-12-06T10:42:59.250105",
     "exception": false,
     "start_time": "2024-12-06T10:42:52.601940",
     "status": "completed"
    },
    "tags": []
   },
   "outputs": [
    {
     "data": {
      "text/plain": [
       "'/kaggle/working/LOS_WEEKS_adm_test.csv'"
      ]
     },
     "execution_count": 4,
     "metadata": {},
     "output_type": "execute_result"
    }
   ],
   "source": [
    "# Step 3: Import pandas\n",
    "import pandas as pd\n",
    "\n",
    "# Step 4: Read the Excel files into pandas dataframes\n",
    "file1 = pd.read_excel('/kaggle/input/google-translate/Google_Translated/MIMIC_III/LOS/test/LOS_WEEKS_adm_test_part_1.xlsx')  # Replace with the name of your first file\n",
    "file2 = pd.read_excel('/kaggle/input/google-translate/Google_Translated/MIMIC_III/LOS/test/LOS_WEEKS_adm_test_part_2.xlsx')  # Replace with the name of your first file\n",
    "file3 = pd.read_excel('/kaggle/input/google-translate/Google_Translated/MIMIC_III/LOS/test/LOS_WEEKS_adm_test_part_3.xlsx')  # Replace with the name of your first file\n",
    "file4 = pd.read_excel('/kaggle/input/google-translate/Google_Translated/MIMIC_III/LOS/test/LOS_WEEKS_adm_test_part_4.xlsx')  # Replace with the name of your first file\n",
    "file5 = pd.read_excel('/kaggle/input/google-translate/Google_Translated/MIMIC_III/LOS/test/LOS_WEEKS_adm_test_part_5.xlsx')  # Replace with the name of your first file\n",
    "file6 = pd.read_excel('/kaggle/input/google-translate/Google_Translated/MIMIC_III/LOS/test/LOS_WEEKS_adm_test_part_6.xlsx')  # Replace with the name of your first file\n",
    "file7 = pd.read_excel('/kaggle/input/google-translate/Google_Translated/MIMIC_III/LOS/test/LOS_WEEKS_adm_test_part_7.xlsx')  # Replace with the name of your first file\n",
    "file8 = pd.read_excel('/kaggle/input/google-translate/Google_Translated/MIMIC_III/LOS/test/LOS_WEEKS_adm_test_part_8.xlsx')  # Replace with the name of your first file\n",
    "file9 = pd.read_excel('/kaggle/input/google-translate/Google_Translated/MIMIC_III/LOS/test/LOS_WEEKS_adm_test_part_9.xlsx')  # Replace with the name of your first file\n",
    "\n",
    "# Step 5: Merge the dataframes (if you want to concatenate by rows)\n",
    "merged_df = pd.concat([file1, file2, file3, file4, file5, file6, file7, file8, file9], ignore_index=True)\n",
    "\n",
    "# Step 6: Save the merged dataframe into a CSV file\n",
    "merged_df.to_csv('/kaggle/working/LOS_WEEKS_adm_test.csv', index=False)\n",
    "\n",
    "# If you want to see the CSV file and download it later from the Kaggle output:\n",
    "import shutil\n",
    "shutil.move('/kaggle/working/LOS_WEEKS_adm_test.csv', '/kaggle/working/LOS_WEEKS_adm_test.csv')"
   ]
  },
  {
   "cell_type": "markdown",
   "id": "bc016127",
   "metadata": {
    "papermill": {
     "duration": 0.002961,
     "end_time": "2024-12-06T10:42:59.256334",
     "exception": false,
     "start_time": "2024-12-06T10:42:59.253373",
     "status": "completed"
    },
    "tags": []
   },
   "source": [
    "# **MP**"
   ]
  },
  {
   "cell_type": "markdown",
   "id": "692d909d",
   "metadata": {
    "papermill": {
     "duration": 0.002751,
     "end_time": "2024-12-06T10:42:59.262179",
     "exception": false,
     "start_time": "2024-12-06T10:42:59.259428",
     "status": "completed"
    },
    "tags": []
   },
   "source": [
    " **Train**"
   ]
  },
  {
   "cell_type": "code",
   "execution_count": 5,
   "id": "d1c2be70",
   "metadata": {
    "execution": {
     "iopub.execute_input": "2024-12-06T10:42:59.269661Z",
     "iopub.status.busy": "2024-12-06T10:42:59.269382Z",
     "iopub.status.idle": "2024-12-06T10:43:24.846030Z",
     "shell.execute_reply": "2024-12-06T10:43:24.845144Z"
    },
    "papermill": {
     "duration": 25.58273,
     "end_time": "2024-12-06T10:43:24.847858",
     "exception": false,
     "start_time": "2024-12-06T10:42:59.265128",
     "status": "completed"
    },
    "tags": []
   },
   "outputs": [
    {
     "data": {
      "text/plain": [
       "'/kaggle/working/MP_IN_adm_train.csv'"
      ]
     },
     "execution_count": 5,
     "metadata": {},
     "output_type": "execute_result"
    }
   ],
   "source": [
    "# Step 3: Import pandas\n",
    "import pandas as pd\n",
    "\n",
    "# Step 4: Read the Excel files into pandas dataframes\n",
    "file1 = pd.read_excel('/kaggle/input/google-translate/Google_Translated/MIMIC_III/MP/train/MP_IN_adm_train_part_1.xlsx')  # Replace with the name of your first file\n",
    "file2 = pd.read_excel('/kaggle/input/google-translate/Google_Translated/MIMIC_III/MP/train/MP_IN_adm_train_part_2.xlsx')  # Replace with the name of your first file\n",
    "file3 = pd.read_excel('/kaggle/input/google-translate/Google_Translated/MIMIC_III/MP/train/MP_IN_adm_train_part_3.xlsx')  # Replace with the name of your first file\n",
    "file4 = pd.read_excel('/kaggle/input/google-translate/Google_Translated/MIMIC_III/MP/train/MP_IN_adm_train_part_4.xlsx')  # Replace with the name of your first file\n",
    "file5 = pd.read_excel('/kaggle/input/google-translate/Google_Translated/MIMIC_III/MP/train/MP_IN_adm_train_part_5.xlsx')  # Replace with the name of your first file\n",
    "file6 = pd.read_excel('/kaggle/input/google-translate/Google_Translated/MIMIC_III/MP/train/MP_IN_adm_train_part_6.xlsx')  # Replace with the name of your first file\n",
    "file7 = pd.read_excel('/kaggle/input/google-translate/Google_Translated/MIMIC_III/MP/train/MP_IN_adm_train_part_7.xlsx')  # Replace with the name of your first file\n",
    "file8 = pd.read_excel('/kaggle/input/google-translate/Google_Translated/MIMIC_III/MP/train/MP_IN_adm_train_part_8.xlsx')  # Replace with the name of your first file\n",
    "file9 = pd.read_excel('/kaggle/input/google-translate/Google_Translated/MIMIC_III/MP/train/MP_IN_adm_train_part_9.xlsx')  # Replace with the name of your first file\n",
    "file10 = pd.read_excel('/kaggle/input/google-translate/Google_Translated/MIMIC_III/MP/train/MP_IN_adm_train_part_10.xlsx')  # Replace with the name of your first file\n",
    "file11 = pd.read_excel('/kaggle/input/google-translate/Google_Translated/MIMIC_III/MP/train/MP_IN_adm_train_part_11.xlsx')  # Replace with the name of your first file\n",
    "file12 = pd.read_excel('/kaggle/input/google-translate/Google_Translated/MIMIC_III/MP/train/MP_IN_adm_train_part_12.xlsx')  # Replace with the name of your first file\n",
    "file13 = pd.read_excel('/kaggle/input/google-translate/Google_Translated/MIMIC_III/MP/train/MP_IN_adm_train_part_13.xlsx')  # Replace with the name of your first file\n",
    "file14 = pd.read_excel('/kaggle/input/google-translate/Google_Translated/MIMIC_III/MP/train/MP_IN_adm_train_part_14.xlsx')  # Replace with the name of your first file\n",
    "file15 = pd.read_excel('/kaggle/input/google-translate/Google_Translated/MIMIC_III/MP/train/MP_IN_adm_train_part_15.xlsx')  # Replace with the name of your first file\n",
    "file16 = pd.read_excel('/kaggle/input/google-translate/Google_Translated/MIMIC_III/MP/train/MP_IN_adm_train_part_16.xlsx')  # Replace with the name of your first file\n",
    "file17 = pd.read_excel('/kaggle/input/google-translate/Google_Translated/MIMIC_III/MP/train/MP_IN_adm_train_part_17.xlsx')  # Replace with the name of your first file\n",
    "file18 = pd.read_excel('/kaggle/input/google-translate/Google_Translated/MIMIC_III/MP/train/MP_IN_adm_train_part_18.xlsx')  # Replace with the name of your first file\n",
    "file19 = pd.read_excel('/kaggle/input/google-translate/Google_Translated/MIMIC_III/MP/train/MP_IN_adm_train_part_19.xlsx')  # Replace with the name of your first file\n",
    "file20 = pd.read_excel('/kaggle/input/google-translate/Google_Translated/MIMIC_III/MP/train/MP_IN_adm_train_part_20.xlsx')  # Replace with the name of your first file\n",
    "file21 = pd.read_excel('/kaggle/input/google-translate/Google_Translated/MIMIC_III/MP/train/MP_IN_adm_train_part_21.xlsx')  # Replace with the name of your first file\n",
    "file22 = pd.read_excel('/kaggle/input/google-translate/Google_Translated/MIMIC_III/MP/train/MP_IN_adm_train_part_22.xlsx')  # Replace with the name of your first file\n",
    "file23 = pd.read_excel('/kaggle/input/google-translate/Google_Translated/MIMIC_III/MP/train/MP_IN_adm_train_part_23.xlsx')  # Replace with the name of your first file\n",
    "file24 = pd.read_excel('/kaggle/input/google-translate/Google_Translated/MIMIC_III/MP/train/MP_IN_adm_train_part_24.xlsx')  # Replace with the name of your first file\n",
    "file25 = pd.read_excel('/kaggle/input/google-translate/Google_Translated/MIMIC_III/MP/train/MP_IN_adm_train_part_25.xlsx')  # Replace with the name of your first file\n",
    "file26 = pd.read_excel('/kaggle/input/google-translate/Google_Translated/MIMIC_III/MP/train/MP_IN_adm_train_part_26.xlsx')  # Replace with the name of your first file\n",
    "file27 = pd.read_excel('/kaggle/input/google-translate/Google_Translated/MIMIC_III/MP/train/MP_IN_adm_train_part_27.xlsx')  # Replace with the name of your first file\n",
    "file28 = pd.read_excel('/kaggle/input/google-translate/Google_Translated/MIMIC_III/MP/train/MP_IN_adm_train_part_28.xlsx')  # Replace with the name of your first file\n",
    "file29 = pd.read_excel('/kaggle/input/google-translate/Google_Translated/MIMIC_III/MP/train/MP_IN_adm_train_part_29.xlsx')  # Replace with the name of your first file\n",
    "file30 = pd.read_excel('/kaggle/input/google-translate/Google_Translated/MIMIC_III/MP/train/MP_IN_adm_train_part_30.xlsx')  # Replace with the name of your first file\n",
    "file31 = pd.read_excel('/kaggle/input/google-translate/Google_Translated/MIMIC_III/MP/train/MP_IN_adm_train_part_31.xlsx')  # Replace with the name of your first file\n",
    "file32 = pd.read_excel('/kaggle/input/google-translate/Google_Translated/MIMIC_III/MP/train/MP_IN_adm_train_part_32.xlsx')  # Replace with the name of your first file\n",
    "file33 = pd.read_excel('/kaggle/input/google-translate/Google_Translated/MIMIC_III/MP/train/MP_IN_adm_train_part_33.xlsx')  # Replace with the name of your first file\n",
    "file34 = pd.read_excel('/kaggle/input/google-translate/Google_Translated/MIMIC_III/MP/train/MP_IN_adm_train_part_34.xlsx')  # Replace with the name of your first file\n",
    "# Step 5: Merge the dataframes (if you want to concatenate by rows)\n",
    "merged_df = pd.concat([file1, file2, file3, file4, file5, file6, file7, \n",
    "                       file8, file9, file10,file11, file12, file13, file14, \n",
    "                       file15, file16, file17, file18, file19, file20,file21, \n",
    "                       file22, file23, file24, file25, file26, file27, file28, \n",
    "                       file29, file30,file31,file32,file33,file34], ignore_index=True)\n",
    "\n",
    "# Step 6: Save the merged dataframe into a CSV file\n",
    "merged_df.to_csv('/kaggle/working/MP_IN_adm_train.csv', index=False)\n",
    "\n",
    "# If you want to see the CSV file and download it later from the Kaggle output:\n",
    "import shutil\n",
    "shutil.move('/kaggle/working/MP_IN_adm_train.csv', '/kaggle/working/MP_IN_adm_train.csv')"
   ]
  },
  {
   "cell_type": "markdown",
   "id": "3fc594b0",
   "metadata": {
    "papermill": {
     "duration": 0.002984,
     "end_time": "2024-12-06T10:43:24.854352",
     "exception": false,
     "start_time": "2024-12-06T10:43:24.851368",
     "status": "completed"
    },
    "tags": []
   },
   "source": [
    " **Validation**"
   ]
  },
  {
   "cell_type": "code",
   "execution_count": 6,
   "id": "67363b77",
   "metadata": {
    "execution": {
     "iopub.execute_input": "2024-12-06T10:43:24.862199Z",
     "iopub.status.busy": "2024-12-06T10:43:24.861560Z",
     "iopub.status.idle": "2024-12-06T10:43:28.639160Z",
     "shell.execute_reply": "2024-12-06T10:43:28.638317Z"
    },
    "papermill": {
     "duration": 3.783577,
     "end_time": "2024-12-06T10:43:28.641044",
     "exception": false,
     "start_time": "2024-12-06T10:43:24.857467",
     "status": "completed"
    },
    "tags": []
   },
   "outputs": [
    {
     "data": {
      "text/plain": [
       "'/kaggle/working/MP_IN_adm_val.csv'"
      ]
     },
     "execution_count": 6,
     "metadata": {},
     "output_type": "execute_result"
    }
   ],
   "source": [
    "# Step 3: Import pandas\n",
    "import pandas as pd\n",
    "\n",
    "# Step 4: Read the Excel files into pandas dataframes\n",
    "file1 = pd.read_excel('/kaggle/input/google-translate/Google_Translated/MIMIC_III/MP/val/MP_IN_adm_val_part_1.xlsx')  # Replace with the name of your first file\n",
    "file2 = pd.read_excel('/kaggle/input/google-translate/Google_Translated/MIMIC_III/MP/val/MP_IN_adm_val_part_2.xlsx')  # Replace with the name of your first file\n",
    "file3 = pd.read_excel('/kaggle/input/google-translate/Google_Translated/MIMIC_III/MP/val/MP_IN_adm_val_part_3.xlsx')  # Replace with the name of your first file\n",
    "file4 = pd.read_excel('/kaggle/input/google-translate/Google_Translated/MIMIC_III/MP/val/MP_IN_adm_val_part_4.xlsx')  # Replace with the name of your first file\n",
    "file5 = pd.read_excel('/kaggle/input/google-translate/Google_Translated/MIMIC_III/MP/val/MP_IN_adm_val_part_5.xlsx')  # Replace with the name of your first file\n",
    "# Step 5: Merge the dataframes (if you want to concatenate by rows)\n",
    "merged_df = pd.concat([file1, file2, file3, file4, file5], ignore_index=True)\n",
    "\n",
    "# Step 6: Save the merged dataframe into a CSV file\n",
    "merged_df.to_csv('/kaggle/working/MP_IN_adm_val.csv', index=False)\n",
    "\n",
    "# If you want to see the CSV file and download it later from the Kaggle output:\n",
    "import shutil\n",
    "shutil.move('/kaggle/working/MP_IN_adm_val.csv', '/kaggle/working/MP_IN_adm_val.csv')"
   ]
  },
  {
   "cell_type": "markdown",
   "id": "c410b07d",
   "metadata": {
    "papermill": {
     "duration": 0.00299,
     "end_time": "2024-12-06T10:43:28.647456",
     "exception": false,
     "start_time": "2024-12-06T10:43:28.644466",
     "status": "completed"
    },
    "tags": []
   },
   "source": [
    "**Test**"
   ]
  },
  {
   "cell_type": "code",
   "execution_count": 7,
   "id": "11e1806b",
   "metadata": {
    "execution": {
     "iopub.execute_input": "2024-12-06T10:43:28.655432Z",
     "iopub.status.busy": "2024-12-06T10:43:28.654646Z",
     "iopub.status.idle": "2024-12-06T10:43:35.675610Z",
     "shell.execute_reply": "2024-12-06T10:43:35.674695Z"
    },
    "papermill": {
     "duration": 7.026846,
     "end_time": "2024-12-06T10:43:35.677454",
     "exception": false,
     "start_time": "2024-12-06T10:43:28.650608",
     "status": "completed"
    },
    "tags": []
   },
   "outputs": [
    {
     "data": {
      "text/plain": [
       "'/kaggle/working/MP_IN_adm_test.csv'"
      ]
     },
     "execution_count": 7,
     "metadata": {},
     "output_type": "execute_result"
    }
   ],
   "source": [
    "# Step 3: Import pandas\n",
    "import pandas as pd\n",
    "\n",
    "# Step 4: Read the Excel files into pandas dataframes\n",
    "file1 = pd.read_excel('/kaggle/input/google-translate/Google_Translated/MIMIC_III/MP/test/MP_IN_adm_test_part_1.xlsx')  # Replace with the name of your first file\n",
    "file2 = pd.read_excel('/kaggle/input/google-translate/Google_Translated/MIMIC_III/MP/test/MP_IN_adm_test_part_2.xlsx')  # Replace with the name of your first file\n",
    "file3 = pd.read_excel('/kaggle/input/google-translate/Google_Translated/MIMIC_III/MP/test/MP_IN_adm_test_part_3.xlsx')  # Replace with the name of your first file\n",
    "file4 = pd.read_excel('/kaggle/input/google-translate/Google_Translated/MIMIC_III/MP/test/MP_IN_adm_test_part_4.xlsx')  # Replace with the name of your first file\n",
    "file5 = pd.read_excel('/kaggle/input/google-translate/Google_Translated/MIMIC_III/MP/test/MP_IN_adm_test_part_5.xlsx')  # Replace with the name of your first file\n",
    "file6 = pd.read_excel('/kaggle/input/google-translate/Google_Translated/MIMIC_III/MP/test/MP_IN_adm_test_part_6.xlsx')  # Replace with the name of your first file\n",
    "file7 = pd.read_excel('/kaggle/input/google-translate/Google_Translated/MIMIC_III/MP/test/MP_IN_adm_test_part_7.xlsx')  # Replace with the name of your first file\n",
    "file8 = pd.read_excel('/kaggle/input/google-translate/Google_Translated/MIMIC_III/MP/test/MP_IN_adm_test_part_8.xlsx')  # Replace with the name of your first file\n",
    "file9 = pd.read_excel('/kaggle/input/google-translate/Google_Translated/MIMIC_III/MP/test/MP_IN_adm_test_part_9.xlsx')  # Replace with the name of your first file\n",
    "\n",
    "# Step 5: Merge the dataframes (if you want to concatenate by rows)\n",
    "merged_df = pd.concat([file1, file2, file3, file4, file5, file6, file7, file8, file9], ignore_index=True)\n",
    "\n",
    "# Step 6: Save the merged dataframe into a CSV file\n",
    "merged_df.to_csv('/kaggle/working/MP_IN_adm_test.csv', index=False)\n",
    "\n",
    "# If you want to see the CSV file and download it later from the Kaggle output:\n",
    "import shutil\n",
    "shutil.move('/kaggle/working/MP_IN_adm_test.csv', '/kaggle/working/MP_IN_adm_test.csv')"
   ]
  }
 ],
 "metadata": {
  "kaggle": {
   "accelerator": "none",
   "dataSources": [
    {
     "datasetId": 6243090,
     "sourceId": 10118406,
     "sourceType": "datasetVersion"
    },
    {
     "datasetId": 6243150,
     "sourceId": 10118480,
     "sourceType": "datasetVersion"
    }
   ],
   "isGpuEnabled": false,
   "isInternetEnabled": true,
   "language": "python",
   "sourceType": "notebook"
  },
  "kernelspec": {
   "display_name": "Python 3",
   "language": "python",
   "name": "python3"
  },
  "language_info": {
   "codemirror_mode": {
    "name": "ipython",
    "version": 3
   },
   "file_extension": ".py",
   "mimetype": "text/x-python",
   "name": "python",
   "nbconvert_exporter": "python",
   "pygments_lexer": "ipython3",
   "version": "3.10.14"
  },
  "papermill": {
   "default_parameters": {},
   "duration": 82.704297,
   "end_time": "2024-12-06T10:43:36.099167",
   "environment_variables": {},
   "exception": null,
   "input_path": "__notebook__.ipynb",
   "output_path": "__notebook__.ipynb",
   "parameters": {},
   "start_time": "2024-12-06T10:42:13.394870",
   "version": "2.6.0"
  }
 },
 "nbformat": 4,
 "nbformat_minor": 5
}
