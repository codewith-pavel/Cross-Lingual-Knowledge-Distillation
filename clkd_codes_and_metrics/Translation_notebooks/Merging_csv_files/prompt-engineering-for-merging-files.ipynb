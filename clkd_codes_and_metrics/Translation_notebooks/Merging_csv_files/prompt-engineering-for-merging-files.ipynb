{
 "cells": [
  {
   "cell_type": "code",
   "execution_count": 1,
   "id": "a1803ef7",
   "metadata": {
    "execution": {
     "iopub.execute_input": "2025-02-11T12:05:27.569149Z",
     "iopub.status.busy": "2025-02-11T12:05:27.568643Z",
     "iopub.status.idle": "2025-02-11T12:05:34.053565Z",
     "shell.execute_reply": "2025-02-11T12:05:34.052214Z"
    },
    "papermill": {
     "duration": 6.49311,
     "end_time": "2025-02-11T12:05:34.055991",
     "exception": false,
     "start_time": "2025-02-11T12:05:27.562881",
     "status": "completed"
    },
    "tags": []
   },
   "outputs": [
    {
     "name": "stdout",
     "output_type": "stream",
     "text": [
      "Requirement already satisfied: pandas in /usr/local/lib/python3.10/dist-packages (2.2.2)\r\n",
      "Requirement already satisfied: openpyxl in /usr/local/lib/python3.10/dist-packages (3.1.5)\r\n",
      "Requirement already satisfied: numpy>=1.22.4 in /usr/local/lib/python3.10/dist-packages (from pandas) (1.26.4)\r\n",
      "Requirement already satisfied: python-dateutil>=2.8.2 in /usr/local/lib/python3.10/dist-packages (from pandas) (2.8.2)\r\n",
      "Requirement already satisfied: pytz>=2020.1 in /usr/local/lib/python3.10/dist-packages (from pandas) (2024.2)\r\n",
      "Requirement already satisfied: tzdata>=2022.7 in /usr/local/lib/python3.10/dist-packages (from pandas) (2024.2)\r\n",
      "Requirement already satisfied: et-xmlfile in /usr/local/lib/python3.10/dist-packages (from openpyxl) (2.0.0)\r\n",
      "Requirement already satisfied: mkl_fft in /usr/local/lib/python3.10/dist-packages (from numpy>=1.22.4->pandas) (1.3.8)\r\n",
      "Requirement already satisfied: mkl_random in /usr/local/lib/python3.10/dist-packages (from numpy>=1.22.4->pandas) (1.2.4)\r\n",
      "Requirement already satisfied: mkl_umath in /usr/local/lib/python3.10/dist-packages (from numpy>=1.22.4->pandas) (0.1.1)\r\n",
      "Requirement already satisfied: mkl in /usr/local/lib/python3.10/dist-packages (from numpy>=1.22.4->pandas) (2025.0.1)\r\n",
      "Requirement already satisfied: tbb4py in /usr/local/lib/python3.10/dist-packages (from numpy>=1.22.4->pandas) (2022.0.0)\r\n",
      "Requirement already satisfied: mkl-service in /usr/local/lib/python3.10/dist-packages (from numpy>=1.22.4->pandas) (2.4.1)\r\n",
      "Requirement already satisfied: six>=1.5 in /usr/local/lib/python3.10/dist-packages (from python-dateutil>=2.8.2->pandas) (1.17.0)\r\n",
      "Requirement already satisfied: intel-openmp>=2024 in /usr/local/lib/python3.10/dist-packages (from mkl->numpy>=1.22.4->pandas) (2024.2.0)\r\n",
      "Requirement already satisfied: tbb==2022.* in /usr/local/lib/python3.10/dist-packages (from mkl->numpy>=1.22.4->pandas) (2022.0.0)\r\n",
      "Requirement already satisfied: tcmlib==1.* in /usr/local/lib/python3.10/dist-packages (from tbb==2022.*->mkl->numpy>=1.22.4->pandas) (1.2.0)\r\n",
      "Requirement already satisfied: intel-cmplr-lib-rt in /usr/local/lib/python3.10/dist-packages (from mkl_umath->numpy>=1.22.4->pandas) (2024.2.0)\r\n",
      "Requirement already satisfied: intel-cmplr-lib-ur==2024.2.0 in /usr/local/lib/python3.10/dist-packages (from intel-openmp>=2024->mkl->numpy>=1.22.4->pandas) (2024.2.0)\r\n"
     ]
    }
   ],
   "source": [
    "!pip install pandas openpyxl"
   ]
  },
  {
   "cell_type": "markdown",
   "id": "26fe8b11",
   "metadata": {
    "papermill": {
     "duration": 0.00421,
     "end_time": "2025-02-11T12:05:34.065279",
     "exception": false,
     "start_time": "2025-02-11T12:05:34.061069",
     "status": "completed"
    },
    "tags": []
   },
   "source": [
    "# **GEMINI 2.0**"
   ]
  },
  {
   "cell_type": "markdown",
   "id": "e34a2b87",
   "metadata": {
    "papermill": {
     "duration": 0.004448,
     "end_time": "2025-02-11T12:05:34.074240",
     "exception": false,
     "start_time": "2025-02-11T12:05:34.069792",
     "status": "completed"
    },
    "tags": []
   },
   "source": [
    "# **LOS**"
   ]
  },
  {
   "cell_type": "markdown",
   "id": "5f1b84f3",
   "metadata": {
    "papermill": {
     "duration": 0.004042,
     "end_time": "2025-02-11T12:05:34.082413",
     "exception": false,
     "start_time": "2025-02-11T12:05:34.078371",
     "status": "completed"
    },
    "tags": []
   },
   "source": [
    "**Train**"
   ]
  },
  {
   "cell_type": "code",
   "execution_count": 2,
   "id": "b1571d3d",
   "metadata": {
    "execution": {
     "iopub.execute_input": "2025-02-11T12:05:34.092704Z",
     "iopub.status.busy": "2025-02-11T12:05:34.092176Z",
     "iopub.status.idle": "2025-02-11T12:05:57.953402Z",
     "shell.execute_reply": "2025-02-11T12:05:57.951900Z"
    },
    "papermill": {
     "duration": 23.869014,
     "end_time": "2025-02-11T12:05:57.955671",
     "exception": false,
     "start_time": "2025-02-11T12:05:34.086657",
     "status": "completed"
    },
    "tags": []
   },
   "outputs": [
    {
     "data": {
      "text/plain": [
       "'/kaggle/working/LOS_WEEKS_adm_train.csv'"
      ]
     },
     "execution_count": 2,
     "metadata": {},
     "output_type": "execute_result"
    }
   ],
   "source": [
    "# Step 3: Import pandas\n",
    "import pandas as pd\n",
    "\n",
    "# Step 4: Read the Excel files into pandas dataframes\n",
    "file1 = pd.read_excel('/kaggle/input/prompt/Prompt_engineered_translated/MIMIC_III/LOS/train/LOS_WEEKS_adm_train_part_1.xlsx')  # Replace with the name of your first file\n",
    "file2 = pd.read_excel('/kaggle/input/prompt/Prompt_engineered_translated/MIMIC_III/LOS/train/LOS_WEEKS_adm_train_part_2.xlsx')  # Replace with the name of your first file\n",
    "file3 = pd.read_excel('/kaggle/input/prompt/Prompt_engineered_translated/MIMIC_III/LOS/train/LOS_WEEKS_adm_train_part_3.xlsx')  # Replace with the name of your first file\n",
    "file4 = pd.read_excel('/kaggle/input/prompt/Prompt_engineered_translated/MIMIC_III/LOS/train/LOS_WEEKS_adm_train_part_4.xlsx')  # Replace with the name of your first file\n",
    "file5 = pd.read_excel('/kaggle/input/prompt/Prompt_engineered_translated/MIMIC_III/LOS/train/LOS_WEEKS_adm_train_part_5.xlsx')  # Replace with the name of your first file\n",
    "file6 = pd.read_excel('/kaggle/input/prompt/Prompt_engineered_translated/MIMIC_III/LOS/train/LOS_WEEKS_adm_train_part_6.xlsx')  # Replace with the name of your first file\n",
    "file7 = pd.read_excel('/kaggle/input/prompt/Prompt_engineered_translated/MIMIC_III/LOS/train/LOS_WEEKS_adm_train_part_7.xlsx')  # Replace with the name of your first file\n",
    "file8 = pd.read_excel('/kaggle/input/prompt/Prompt_engineered_translated/MIMIC_III/LOS/train/LOS_WEEKS_adm_train_part_8.xlsx')  # Replace with the name of your first file\n",
    "file9 = pd.read_excel('/kaggle/input/prompt/Prompt_engineered_translated/MIMIC_III/LOS/train/LOS_WEEKS_adm_train_part_9.xlsx')  # Replace with the name of your first file\n",
    "file10 = pd.read_excel('/kaggle/input/prompt/Prompt_engineered_translated/MIMIC_III/LOS/train/LOS_WEEKS_adm_train_part_10.xlsx')  # Replace with the name of your first file\n",
    "file11 = pd.read_excel('/kaggle/input/prompt/Prompt_engineered_translated/MIMIC_III/LOS/train/LOS_WEEKS_adm_train_part_11.xlsx')  # Replace with the name of your first file\n",
    "file12 = pd.read_excel('/kaggle/input/prompt/Prompt_engineered_translated/MIMIC_III/LOS/train/LOS_WEEKS_adm_train_part_12.xlsx')  # Replace with the name of your first file\n",
    "file13 = pd.read_excel('/kaggle/input/prompt/Prompt_engineered_translated/MIMIC_III/LOS/train/LOS_WEEKS_adm_train_part_13.xlsx')  # Replace with the name of your first file\n",
    "file14 = pd.read_excel('/kaggle/input/prompt/Prompt_engineered_translated/MIMIC_III/LOS/train/LOS_WEEKS_adm_train_part_14.xlsx')  # Replace with the name of your first file\n",
    "file15 = pd.read_excel('/kaggle/input/prompt/Prompt_engineered_translated/MIMIC_III/LOS/train/LOS_WEEKS_adm_train_part_15.xlsx')  # Replace with the name of your first file\n",
    "file16 = pd.read_excel('/kaggle/input/prompt/Prompt_engineered_translated/MIMIC_III/LOS/train/LOS_WEEKS_adm_train_part_16.xlsx')  # Replace with the name of your first file\n",
    "file17 = pd.read_excel('/kaggle/input/prompt/Prompt_engineered_translated/MIMIC_III/LOS/train/LOS_WEEKS_adm_train_part_17.xlsx')  # Replace with the name of your first file\n",
    "file18 = pd.read_excel('/kaggle/input/prompt/Prompt_engineered_translated/MIMIC_III/LOS/train/LOS_WEEKS_adm_train_part_18.xlsx')  # Replace with the name of your first file\n",
    "file19 = pd.read_excel('/kaggle/input/prompt/Prompt_engineered_translated/MIMIC_III/LOS/train/LOS_WEEKS_adm_train_part_19.xlsx')  # Replace with the name of your first file\n",
    "file20 = pd.read_excel('/kaggle/input/prompt/Prompt_engineered_translated/MIMIC_III/LOS/train/LOS_WEEKS_adm_train_part_20.xlsx')  # Replace with the name of your first file\n",
    "file21 = pd.read_excel('/kaggle/input/prompt/Prompt_engineered_translated/MIMIC_III/LOS/train/LOS_WEEKS_adm_train_part_21.xlsx')  # Replace with the name of your first file\n",
    "file22 = pd.read_excel('/kaggle/input/prompt/Prompt_engineered_translated/MIMIC_III/LOS/train/LOS_WEEKS_adm_train_part_22.xlsx')  # Replace with the name of your first file\n",
    "file23 = pd.read_excel('/kaggle/input/prompt/Prompt_engineered_translated/MIMIC_III/LOS/train/LOS_WEEKS_adm_train_part_23.xlsx')  # Replace with the name of your first file\n",
    "file24 = pd.read_excel('/kaggle/input/prompt/Prompt_engineered_translated/MIMIC_III/LOS/train/LOS_WEEKS_adm_train_part_24.xlsx')  # Replace with the name of your first file\n",
    "file25 = pd.read_excel('/kaggle/input/prompt/Prompt_engineered_translated/MIMIC_III/LOS/train/LOS_WEEKS_adm_train_part_25.xlsx')  # Replace with the name of your first file\n",
    "file26 = pd.read_excel('/kaggle/input/prompt/Prompt_engineered_translated/MIMIC_III/LOS/train/LOS_WEEKS_adm_train_part_26.xlsx')  # Replace with the name of your first file\n",
    "file27 = pd.read_excel('/kaggle/input/prompt/Prompt_engineered_translated/MIMIC_III/LOS/train/LOS_WEEKS_adm_train_part_27.xlsx')  # Replace with the name of your first file\n",
    "file28 = pd.read_excel('/kaggle/input/prompt/Prompt_engineered_translated/MIMIC_III/LOS/train/LOS_WEEKS_adm_train_part_28.xlsx')  # Replace with the name of your first file\n",
    "file29 = pd.read_excel('/kaggle/input/prompt/Prompt_engineered_translated/MIMIC_III/LOS/train/LOS_WEEKS_adm_train_part_29.xlsx')  # Replace with the name of your first file\n",
    "file30 = pd.read_excel('/kaggle/input/prompt/Prompt_engineered_translated/MIMIC_III/LOS/train/LOS_WEEKS_adm_train_part_30.xlsx')  # Replace with the name of your first file\n",
    "file31 = pd.read_excel('/kaggle/input/prompt/Prompt_engineered_translated/MIMIC_III/LOS/train/LOS_WEEKS_adm_train_part_31.xlsx')  # Replace with the name of your first file\n",
    "# Step 5: Merge the dataframes (if you want to concatenate by rows)\n",
    "merged_df = pd.concat([file1, file2, file3, file4, file5, file6, file7, \n",
    "                       file8, file9, file10,file11, file12, file13, file14, \n",
    "                       file15, file16, file17, file18, file19, file20,file21, \n",
    "                       file22, file23, file24, file25, file26, file27, file28, \n",
    "                       file29, file30,file31], ignore_index=True)\n",
    "\n",
    "# Step 6: Save the merged dataframe into a CSV file\n",
    "merged_df.to_csv('/kaggle/working/LOS_WEEKS_adm_train.csv', index=False)\n",
    "\n",
    "# If you want to see the CSV file and download it later from the Kaggle output:\n",
    "import shutil\n",
    "shutil.move('/kaggle/working/LOS_WEEKS_adm_train.csv', '/kaggle/working/LOS_WEEKS_adm_train.csv')"
   ]
  },
  {
   "cell_type": "markdown",
   "id": "a7b9288b",
   "metadata": {
    "papermill": {
     "duration": 0.003867,
     "end_time": "2025-02-11T12:05:57.963939",
     "exception": false,
     "start_time": "2025-02-11T12:05:57.960072",
     "status": "completed"
    },
    "tags": []
   },
   "source": [
    "**Validation**"
   ]
  },
  {
   "cell_type": "code",
   "execution_count": 3,
   "id": "b5a0ee68",
   "metadata": {
    "execution": {
     "iopub.execute_input": "2025-02-11T12:05:57.974380Z",
     "iopub.status.busy": "2025-02-11T12:05:57.974017Z",
     "iopub.status.idle": "2025-02-11T12:06:01.370106Z",
     "shell.execute_reply": "2025-02-11T12:06:01.368913Z"
    },
    "papermill": {
     "duration": 3.404041,
     "end_time": "2025-02-11T12:06:01.372169",
     "exception": false,
     "start_time": "2025-02-11T12:05:57.968128",
     "status": "completed"
    },
    "tags": []
   },
   "outputs": [
    {
     "data": {
      "text/plain": [
       "'/kaggle/working/LOS_WEEKS_adm_val.csv'"
      ]
     },
     "execution_count": 3,
     "metadata": {},
     "output_type": "execute_result"
    }
   ],
   "source": [
    "# Step 3: Import pandas\n",
    "import pandas as pd\n",
    "\n",
    "# Step 4: Read the Excel files into pandas dataframes\n",
    "file1 = pd.read_excel('/kaggle/input/prompt/Prompt_engineered_translated/MIMIC_III/LOS/val/LOS_WEEKS_adm_val_part_1.xlsx')  # Replace with the name of your first file\n",
    "file2 = pd.read_excel('/kaggle/input/prompt/Prompt_engineered_translated/MIMIC_III/LOS/val/LOS_WEEKS_adm_val_part_2.xlsx')  # Replace with the name of your first file\n",
    "file3 = pd.read_excel('/kaggle/input/prompt/Prompt_engineered_translated/MIMIC_III/LOS/val/LOS_WEEKS_adm_val_part_3.xlsx')  # Replace with the name of your first file\n",
    "file4 = pd.read_excel('/kaggle/input/prompt/Prompt_engineered_translated/MIMIC_III/LOS/val/LOS_WEEKS_adm_val_part_4.xlsx')  # Replace with the name of your first file\n",
    "file5 = pd.read_excel('/kaggle/input/prompt/Prompt_engineered_translated/MIMIC_III/LOS/val/LOS_WEEKS_adm_val_part_5.xlsx')  # Replace with the name of your first file\n",
    "# Step 5: Merge the dataframes (if you want to concatenate by rows)\n",
    "merged_df = pd.concat([file1, file2, file3, file4, file5], ignore_index=True)\n",
    "\n",
    "# Step 6: Save the merged dataframe into a CSV file\n",
    "merged_df.to_csv('/kaggle/working/LOS_WEEKS_adm_val.csv', index=False)\n",
    "\n",
    "# If you want to see the CSV file and download it later from the Kaggle output:\n",
    "import shutil\n",
    "shutil.move('/kaggle/working/LOS_WEEKS_adm_val.csv', '/kaggle/working/LOS_WEEKS_adm_val.csv')"
   ]
  },
  {
   "cell_type": "markdown",
   "id": "c58e31b3",
   "metadata": {
    "papermill": {
     "duration": 0.004717,
     "end_time": "2025-02-11T12:06:01.381437",
     "exception": false,
     "start_time": "2025-02-11T12:06:01.376720",
     "status": "completed"
    },
    "tags": []
   },
   "source": [
    "**Test**"
   ]
  },
  {
   "cell_type": "code",
   "execution_count": 4,
   "id": "afac0424",
   "metadata": {
    "execution": {
     "iopub.execute_input": "2025-02-11T12:06:01.391557Z",
     "iopub.status.busy": "2025-02-11T12:06:01.391205Z",
     "iopub.status.idle": "2025-02-11T12:06:08.151294Z",
     "shell.execute_reply": "2025-02-11T12:06:08.149810Z"
    },
    "papermill": {
     "duration": 6.767432,
     "end_time": "2025-02-11T12:06:08.153213",
     "exception": false,
     "start_time": "2025-02-11T12:06:01.385781",
     "status": "completed"
    },
    "tags": []
   },
   "outputs": [
    {
     "data": {
      "text/plain": [
       "'/kaggle/working/LOS_WEEKS_adm_test.csv'"
      ]
     },
     "execution_count": 4,
     "metadata": {},
     "output_type": "execute_result"
    }
   ],
   "source": [
    "# Step 3: Import pandas\n",
    "import pandas as pd\n",
    "\n",
    "# Step 4: Read the Excel files into pandas dataframes\n",
    "file1 = pd.read_excel('/kaggle/input/prompt/Prompt_engineered_translated/MIMIC_III/LOS/test/LOS_WEEKS_adm_test_part_1.xlsx')  # Replace with the name of your first file\n",
    "file2 = pd.read_excel('/kaggle/input/prompt/Prompt_engineered_translated/MIMIC_III/LOS/test/LOS_WEEKS_adm_test_part_2.xlsx')  # Replace with the name of your first file\n",
    "file3 = pd.read_excel('/kaggle/input/prompt/Prompt_engineered_translated/MIMIC_III/LOS/test/LOS_WEEKS_adm_test_part_3.xlsx')  # Replace with the name of your first file\n",
    "file4 = pd.read_excel('/kaggle/input/prompt/Prompt_engineered_translated/MIMIC_III/LOS/test/LOS_WEEKS_adm_test_part_4.xlsx')  # Replace with the name of your first file\n",
    "file5 = pd.read_excel('/kaggle/input/prompt/Prompt_engineered_translated/MIMIC_III/LOS/test/LOS_WEEKS_adm_test_part_5.xlsx')  # Replace with the name of your first file\n",
    "file6 = pd.read_excel('/kaggle/input/prompt/Prompt_engineered_translated/MIMIC_III/LOS/test/LOS_WEEKS_adm_test_part_6.xlsx')  # Replace with the name of your first file\n",
    "file7 = pd.read_excel('/kaggle/input/prompt/Prompt_engineered_translated/MIMIC_III/LOS/test/LOS_WEEKS_adm_test_part_7.xlsx')  # Replace with the name of your first file\n",
    "file8 = pd.read_excel('/kaggle/input/prompt/Prompt_engineered_translated/MIMIC_III/LOS/test/LOS_WEEKS_adm_test_part_8.xlsx')  # Replace with the name of your first file\n",
    "file9 = pd.read_excel('/kaggle/input/prompt/Prompt_engineered_translated/MIMIC_III/LOS/test/LOS_WEEKS_adm_test_part_9.xlsx')  # Replace with the name of your first file\n",
    "\n",
    "# Step 5: Merge the dataframes (if you want to concatenate by rows)\n",
    "merged_df = pd.concat([file1, file2, file3, file4, file5, file6, file7, file8, file9], ignore_index=True)\n",
    "\n",
    "# Step 6: Save the merged dataframe into a CSV file\n",
    "merged_df.to_csv('/kaggle/working/LOS_WEEKS_adm_test.csv', index=False)\n",
    "\n",
    "# If you want to see the CSV file and download it later from the Kaggle output:\n",
    "import shutil\n",
    "shutil.move('/kaggle/working/LOS_WEEKS_adm_test.csv', '/kaggle/working/LOS_WEEKS_adm_test.csv')"
   ]
  },
  {
   "cell_type": "markdown",
   "id": "20094f22",
   "metadata": {
    "papermill": {
     "duration": 0.004062,
     "end_time": "2025-02-11T12:06:08.161765",
     "exception": false,
     "start_time": "2025-02-11T12:06:08.157703",
     "status": "completed"
    },
    "tags": []
   },
   "source": [
    "# **MP**"
   ]
  },
  {
   "cell_type": "markdown",
   "id": "59bc41b7",
   "metadata": {
    "papermill": {
     "duration": 0.003979,
     "end_time": "2025-02-11T12:06:08.170077",
     "exception": false,
     "start_time": "2025-02-11T12:06:08.166098",
     "status": "completed"
    },
    "tags": []
   },
   "source": [
    " **Train**"
   ]
  },
  {
   "cell_type": "code",
   "execution_count": 5,
   "id": "ca85c90f",
   "metadata": {
    "execution": {
     "iopub.execute_input": "2025-02-11T12:06:08.180409Z",
     "iopub.status.busy": "2025-02-11T12:06:08.180062Z",
     "iopub.status.idle": "2025-02-11T12:06:32.844991Z",
     "shell.execute_reply": "2025-02-11T12:06:32.843797Z"
    },
    "papermill": {
     "duration": 24.672552,
     "end_time": "2025-02-11T12:06:32.846962",
     "exception": false,
     "start_time": "2025-02-11T12:06:08.174410",
     "status": "completed"
    },
    "tags": []
   },
   "outputs": [
    {
     "data": {
      "text/plain": [
       "'/kaggle/working/MP_IN_adm_train.csv'"
      ]
     },
     "execution_count": 5,
     "metadata": {},
     "output_type": "execute_result"
    }
   ],
   "source": [
    "# Step 3: Import pandas\n",
    "import pandas as pd\n",
    "\n",
    "# Step 4: Read the Excel files into pandas dataframes\n",
    "file1 = pd.read_excel('/kaggle/input/prompt/Prompt_engineered_translated/MIMIC_III/MP/train/MP_IN_adm_train_part_1.xlsx')  # Replace with the name of your first file\n",
    "file2 = pd.read_excel('/kaggle/input/prompt/Prompt_engineered_translated/MIMIC_III/MP/train/MP_IN_adm_train_part_2.xlsx')  # Replace with the name of your first file\n",
    "file3 = pd.read_excel('/kaggle/input/prompt/Prompt_engineered_translated/MIMIC_III/MP/train/MP_IN_adm_train_part_3.xlsx')  # Replace with the name of your first file\n",
    "file4 = pd.read_excel('/kaggle/input/prompt/Prompt_engineered_translated/MIMIC_III/MP/train/MP_IN_adm_train_part_4.xlsx')  # Replace with the name of your first file\n",
    "file5 = pd.read_excel('/kaggle/input/prompt/Prompt_engineered_translated/MIMIC_III/MP/train/MP_IN_adm_train_part_5.xlsx')  # Replace with the name of your first file\n",
    "file6 = pd.read_excel('/kaggle/input/prompt/Prompt_engineered_translated/MIMIC_III/MP/train/MP_IN_adm_train_part_6.xlsx')  # Replace with the name of your first file\n",
    "file7 = pd.read_excel('/kaggle/input/prompt/Prompt_engineered_translated/MIMIC_III/MP/train/MP_IN_adm_train_part_7.xlsx')  # Replace with the name of your first file\n",
    "file8 = pd.read_excel('/kaggle/input/prompt/Prompt_engineered_translated/MIMIC_III/MP/train/MP_IN_adm_train_part_8.xlsx')  # Replace with the name of your first file\n",
    "file9 = pd.read_excel('/kaggle/input/prompt/Prompt_engineered_translated/MIMIC_III/MP/train/MP_IN_adm_train_part_9.xlsx')  # Replace with the name of your first file\n",
    "file10 = pd.read_excel('/kaggle/input/prompt/Prompt_engineered_translated/MIMIC_III/MP/train/MP_IN_adm_train_part_10.xlsx')  # Replace with the name of your first file\n",
    "file11 = pd.read_excel('/kaggle/input/prompt/Prompt_engineered_translated/MIMIC_III/MP/train/MP_IN_adm_train_part_11.xlsx')  # Replace with the name of your first file\n",
    "file12 = pd.read_excel('/kaggle/input/prompt/Prompt_engineered_translated/MIMIC_III/MP/train/MP_IN_adm_train_part_12.xlsx')  # Replace with the name of your first file\n",
    "file13 = pd.read_excel('/kaggle/input/prompt/Prompt_engineered_translated/MIMIC_III/MP/train/MP_IN_adm_train_part_13.xlsx')  # Replace with the name of your first file\n",
    "file14 = pd.read_excel('/kaggle/input/prompt/Prompt_engineered_translated/MIMIC_III/MP/train/MP_IN_adm_train_part_14.xlsx')  # Replace with the name of your first file\n",
    "file15 = pd.read_excel('/kaggle/input/prompt/Prompt_engineered_translated/MIMIC_III/MP/train/MP_IN_adm_train_part_15.xlsx')  # Replace with the name of your first file\n",
    "file16 = pd.read_excel('/kaggle/input/prompt/Prompt_engineered_translated/MIMIC_III/MP/train/MP_IN_adm_train_part_16.xlsx')  # Replace with the name of your first file\n",
    "file17 = pd.read_excel('/kaggle/input/prompt/Prompt_engineered_translated/MIMIC_III/MP/train/MP_IN_adm_train_part_17.xlsx')  # Replace with the name of your first file\n",
    "file18 = pd.read_excel('/kaggle/input/prompt/Prompt_engineered_translated/MIMIC_III/MP/train/MP_IN_adm_train_part_18.xlsx')  # Replace with the name of your first file\n",
    "file19 = pd.read_excel('/kaggle/input/prompt/Prompt_engineered_translated/MIMIC_III/MP/train/MP_IN_adm_train_part_19.xlsx')  # Replace with the name of your first file\n",
    "file20 = pd.read_excel('/kaggle/input/prompt/Prompt_engineered_translated/MIMIC_III/MP/train/MP_IN_adm_train_part_20.xlsx')  # Replace with the name of your first file\n",
    "file21 = pd.read_excel('/kaggle/input/prompt/Prompt_engineered_translated/MIMIC_III/MP/train/MP_IN_adm_train_part_21.xlsx')  # Replace with the name of your first file\n",
    "file22 = pd.read_excel('/kaggle/input/prompt/Prompt_engineered_translated/MIMIC_III/MP/train/MP_IN_adm_train_part_22.xlsx')  # Replace with the name of your first file\n",
    "file23 = pd.read_excel('/kaggle/input/prompt/Prompt_engineered_translated/MIMIC_III/MP/train/MP_IN_adm_train_part_23.xlsx')  # Replace with the name of your first file\n",
    "file24 = pd.read_excel('/kaggle/input/prompt/Prompt_engineered_translated/MIMIC_III/MP/train/MP_IN_adm_train_part_24.xlsx')  # Replace with the name of your first file\n",
    "file25 = pd.read_excel('/kaggle/input/prompt/Prompt_engineered_translated/MIMIC_III/MP/train/MP_IN_adm_train_part_25.xlsx')  # Replace with the name of your first file\n",
    "file26 = pd.read_excel('/kaggle/input/prompt/Prompt_engineered_translated/MIMIC_III/MP/train/MP_IN_adm_train_part_26.xlsx')  # Replace with the name of your first file\n",
    "file27 = pd.read_excel('/kaggle/input/prompt/Prompt_engineered_translated/MIMIC_III/MP/train/MP_IN_adm_train_part_27.xlsx')  # Replace with the name of your first file\n",
    "file28 = pd.read_excel('/kaggle/input/prompt/Prompt_engineered_translated/MIMIC_III/MP/train/MP_IN_adm_train_part_28.xlsx')  # Replace with the name of your first file\n",
    "file29 = pd.read_excel('/kaggle/input/prompt/Prompt_engineered_translated/MIMIC_III/MP/train/MP_IN_adm_train_part_29.xlsx')  # Replace with the name of your first file\n",
    "file30 = pd.read_excel('/kaggle/input/prompt/Prompt_engineered_translated/MIMIC_III/MP/train/MP_IN_adm_train_part_30.xlsx')  # Replace with the name of your first file\n",
    "file31 = pd.read_excel('/kaggle/input/prompt/Prompt_engineered_translated/MIMIC_III/MP/train/MP_IN_adm_train_part_31.xlsx')  # Replace with the name of your first file\n",
    "file32 = pd.read_excel('/kaggle/input/prompt/Prompt_engineered_translated/MIMIC_III/MP/train/MP_IN_adm_train_part_32.xlsx')  # Replace with the name of your first file\n",
    "file33 = pd.read_excel('/kaggle/input/prompt/Prompt_engineered_translated/MIMIC_III/MP/train/MP_IN_adm_train_part_33.xlsx')  # Replace with the name of your first file\n",
    "file34 = pd.read_excel('/kaggle/input/prompt/Prompt_engineered_translated/MIMIC_III/MP/train/MP_IN_adm_train_part_34.xlsx')  # Replace with the name of your first file\n",
    "# Step 5: Merge the dataframes (if you want to concatenate by rows)\n",
    "merged_df = pd.concat([file1, file2, file3, file4, file5, file6, file7, \n",
    "                       file8, file9, file10,file11, file12, file13, file14, \n",
    "                       file15, file16, file17, file18, file19, file20,file21, \n",
    "                       file22, file23, file24, file25, file26, file27, file28, \n",
    "                       file29, file30,file31,file32,file33,file34], ignore_index=True)\n",
    "\n",
    "# Step 6: Save the merged dataframe into a CSV file\n",
    "merged_df.to_csv('/kaggle/working/MP_IN_adm_train.csv', index=False)\n",
    "\n",
    "# If you want to see the CSV file and download it later from the Kaggle output:\n",
    "import shutil\n",
    "shutil.move('/kaggle/working/MP_IN_adm_train.csv', '/kaggle/working/MP_IN_adm_train.csv')"
   ]
  },
  {
   "cell_type": "markdown",
   "id": "dd1db70f",
   "metadata": {
    "papermill": {
     "duration": 0.00415,
     "end_time": "2025-02-11T12:06:32.856142",
     "exception": false,
     "start_time": "2025-02-11T12:06:32.851992",
     "status": "completed"
    },
    "tags": []
   },
   "source": [
    " **Validation**"
   ]
  },
  {
   "cell_type": "code",
   "execution_count": 6,
   "id": "ffa9a48e",
   "metadata": {
    "execution": {
     "iopub.execute_input": "2025-02-11T12:06:32.867324Z",
     "iopub.status.busy": "2025-02-11T12:06:32.866966Z",
     "iopub.status.idle": "2025-02-11T12:06:36.525907Z",
     "shell.execute_reply": "2025-02-11T12:06:36.524392Z"
    },
    "papermill": {
     "duration": 3.667453,
     "end_time": "2025-02-11T12:06:36.528096",
     "exception": false,
     "start_time": "2025-02-11T12:06:32.860643",
     "status": "completed"
    },
    "tags": []
   },
   "outputs": [
    {
     "data": {
      "text/plain": [
       "'/kaggle/working/MP_IN_adm_val.csv'"
      ]
     },
     "execution_count": 6,
     "metadata": {},
     "output_type": "execute_result"
    }
   ],
   "source": [
    "# Step 3: Import pandas\n",
    "import pandas as pd\n",
    "\n",
    "# Step 4: Read the Excel files into pandas dataframes\n",
    "file1 = pd.read_excel('/kaggle/input/prompt/Prompt_engineered_translated/MIMIC_III/MP/val/MP_IN_adm_val_part_1.xlsx')  # Replace with the name of your first file\n",
    "file2 = pd.read_excel('/kaggle/input/prompt/Prompt_engineered_translated/MIMIC_III/MP/val/MP_IN_adm_val_part_2.xlsx')  # Replace with the name of your first file\n",
    "file3 = pd.read_excel('/kaggle/input/prompt/Prompt_engineered_translated/MIMIC_III/MP/val/MP_IN_adm_val_part_3.xlsx')  # Replace with the name of your first file\n",
    "file4 = pd.read_excel('/kaggle/input/prompt/Prompt_engineered_translated/MIMIC_III/MP/val/MP_IN_adm_val_part_4.xlsx')  # Replace with the name of your first file\n",
    "file5 = pd.read_excel('/kaggle/input/prompt/Prompt_engineered_translated/MIMIC_III/MP/val/MP_IN_adm_val_part_5.xlsx')  # Replace with the name of your first file\n",
    "# Step 5: Merge the dataframes (if you want to concatenate by rows)\n",
    "merged_df = pd.concat([file1, file2, file3, file4, file5], ignore_index=True)\n",
    "\n",
    "# Step 6: Save the merged dataframe into a CSV file\n",
    "merged_df.to_csv('/kaggle/working/MP_IN_adm_val.csv', index=False)\n",
    "\n",
    "# If you want to see the CSV file and download it later from the Kaggle output:\n",
    "import shutil\n",
    "shutil.move('/kaggle/working/MP_IN_adm_val.csv', '/kaggle/working/MP_IN_adm_val.csv')"
   ]
  },
  {
   "cell_type": "markdown",
   "id": "f97a6805",
   "metadata": {
    "papermill": {
     "duration": 0.004485,
     "end_time": "2025-02-11T12:06:36.537891",
     "exception": false,
     "start_time": "2025-02-11T12:06:36.533406",
     "status": "completed"
    },
    "tags": []
   },
   "source": [
    "**Test**"
   ]
  },
  {
   "cell_type": "code",
   "execution_count": 7,
   "id": "8f90c0e2",
   "metadata": {
    "execution": {
     "iopub.execute_input": "2025-02-11T12:06:36.548426Z",
     "iopub.status.busy": "2025-02-11T12:06:36.548073Z",
     "iopub.status.idle": "2025-02-11T12:06:43.203679Z",
     "shell.execute_reply": "2025-02-11T12:06:43.201246Z"
    },
    "papermill": {
     "duration": 6.664151,
     "end_time": "2025-02-11T12:06:43.206590",
     "exception": false,
     "start_time": "2025-02-11T12:06:36.542439",
     "status": "completed"
    },
    "tags": []
   },
   "outputs": [
    {
     "data": {
      "text/plain": [
       "'/kaggle/working/MP_IN_adm_test.csv'"
      ]
     },
     "execution_count": 7,
     "metadata": {},
     "output_type": "execute_result"
    }
   ],
   "source": [
    "# Step 3: Import pandas\n",
    "import pandas as pd\n",
    "\n",
    "# Step 4: Read the Excel files into pandas dataframes\n",
    "file1 = pd.read_excel('/kaggle/input/prompt/Prompt_engineered_translated/MIMIC_III/MP/test/MP_IN_adm_test_part_1.xlsx')  # Replace with the name of your first file\n",
    "file2 = pd.read_excel('/kaggle/input/prompt/Prompt_engineered_translated/MIMIC_III/MP/test/MP_IN_adm_test_part_2.xlsx')  # Replace with the name of your first file\n",
    "file3 = pd.read_excel('/kaggle/input/prompt/Prompt_engineered_translated/MIMIC_III/MP/test/MP_IN_adm_test_part_3.xlsx')  # Replace with the name of your first file\n",
    "file4 = pd.read_excel('/kaggle/input/prompt/Prompt_engineered_translated/MIMIC_III/MP/test/MP_IN_adm_test_part_4.xlsx')  # Replace with the name of your first file\n",
    "file5 = pd.read_excel('/kaggle/input/prompt/Prompt_engineered_translated/MIMIC_III/MP/test/MP_IN_adm_test_part_5.xlsx')  # Replace with the name of your first file\n",
    "file6 = pd.read_excel('/kaggle/input/prompt/Prompt_engineered_translated/MIMIC_III/MP/test/MP_IN_adm_test_part_6.xlsx')  # Replace with the name of your first file\n",
    "file7 = pd.read_excel('/kaggle/input/prompt/Prompt_engineered_translated/MIMIC_III/MP/test/MP_IN_adm_test_part_7.xlsx')  # Replace with the name of your first file\n",
    "file8 = pd.read_excel('/kaggle/input/prompt/Prompt_engineered_translated/MIMIC_III/MP/test/MP_IN_adm_test_part_8.xlsx')  # Replace with the name of your first file\n",
    "file9 = pd.read_excel('/kaggle/input/prompt/Prompt_engineered_translated/MIMIC_III/MP/test/MP_IN_adm_test_part_9.xlsx')  # Replace with the name of your first file\n",
    "\n",
    "# Step 5: Merge the dataframes (if you want to concatenate by rows)\n",
    "merged_df = pd.concat([file1, file2, file3, file4, file5, file6, file7, file8, file9], ignore_index=True)\n",
    "\n",
    "# Step 6: Save the merged dataframe into a CSV file\n",
    "merged_df.to_csv('/kaggle/working/MP_IN_adm_test.csv', index=False)\n",
    "\n",
    "# If you want to see the CSV file and download it later from the Kaggle output:\n",
    "import shutil\n",
    "shutil.move('/kaggle/working/MP_IN_adm_test.csv', '/kaggle/working/MP_IN_adm_test.csv')"
   ]
  }
 ],
 "metadata": {
  "kaggle": {
   "accelerator": "none",
   "dataSources": [
    {
     "datasetId": 6243090,
     "sourceId": 10118406,
     "sourceType": "datasetVersion"
    },
    {
     "datasetId": 6243150,
     "sourceId": 10118480,
     "sourceType": "datasetVersion"
    },
    {
     "datasetId": 6505270,
     "sourceId": 10507810,
     "sourceType": "datasetVersion"
    }
   ],
   "dockerImageVersionId": 30839,
   "isGpuEnabled": false,
   "isInternetEnabled": true,
   "language": "python",
   "sourceType": "notebook"
  },
  "kernelspec": {
   "display_name": "Python 3",
   "language": "python",
   "name": "python3"
  },
  "language_info": {
   "codemirror_mode": {
    "name": "ipython",
    "version": 3
   },
   "file_extension": ".py",
   "mimetype": "text/x-python",
   "name": "python",
   "nbconvert_exporter": "python",
   "pygments_lexer": "ipython3",
   "version": "3.10.12"
  },
  "papermill": {
   "default_parameters": {},
   "duration": 79.734309,
   "end_time": "2025-02-11T12:06:44.037565",
   "environment_variables": {},
   "exception": null,
   "input_path": "__notebook__.ipynb",
   "output_path": "__notebook__.ipynb",
   "parameters": {},
   "start_time": "2025-02-11T12:05:24.303256",
   "version": "2.6.0"
  }
 },
 "nbformat": 4,
 "nbformat_minor": 5
}
