{
 "cells": [
  {
   "cell_type": "code",
   "execution_count": 1,
   "id": "4bff99c4",
   "metadata": {
    "execution": {
     "iopub.execute_input": "2024-11-06T13:53:04.050509Z",
     "iopub.status.busy": "2024-11-06T13:53:04.049669Z",
     "iopub.status.idle": "2024-11-06T13:53:08.829667Z",
     "shell.execute_reply": "2024-11-06T13:53:08.828112Z"
    },
    "papermill": {
     "duration": 4.787487,
     "end_time": "2024-11-06T13:53:08.832358",
     "exception": false,
     "start_time": "2024-11-06T13:53:04.044871",
     "status": "completed"
    },
    "tags": []
   },
   "outputs": [
    {
     "name": "stdout",
     "output_type": "stream",
     "text": [
      "Saved /kaggle/working/MIMIC III/LOS/train/LOS_WEEKS_adm_train_part_1.csv\n",
      "Saved /kaggle/working/MIMIC III/LOS/train/LOS_WEEKS_adm_train_part_2.csv\n",
      "Saved /kaggle/working/MIMIC III/LOS/train/LOS_WEEKS_adm_train_part_3.csv\n",
      "Saved /kaggle/working/MIMIC III/LOS/train/LOS_WEEKS_adm_train_part_4.csv\n",
      "Saved /kaggle/working/MIMIC III/LOS/train/LOS_WEEKS_adm_train_part_5.csv\n",
      "Saved /kaggle/working/MIMIC III/LOS/train/LOS_WEEKS_adm_train_part_6.csv\n",
      "Saved /kaggle/working/MIMIC III/LOS/train/LOS_WEEKS_adm_train_part_7.csv\n",
      "Saved /kaggle/working/MIMIC III/LOS/train/LOS_WEEKS_adm_train_part_8.csv\n",
      "Saved /kaggle/working/MIMIC III/LOS/train/LOS_WEEKS_adm_train_part_9.csv\n",
      "Saved /kaggle/working/MIMIC III/LOS/train/LOS_WEEKS_adm_train_part_10.csv\n",
      "Saved /kaggle/working/MIMIC III/LOS/train/LOS_WEEKS_adm_train_part_11.csv\n",
      "Saved /kaggle/working/MIMIC III/LOS/train/LOS_WEEKS_adm_train_part_12.csv\n",
      "Saved /kaggle/working/MIMIC III/LOS/train/LOS_WEEKS_adm_train_part_13.csv\n",
      "Saved /kaggle/working/MIMIC III/LOS/train/LOS_WEEKS_adm_train_part_14.csv\n",
      "Saved /kaggle/working/MIMIC III/LOS/train/LOS_WEEKS_adm_train_part_15.csv\n",
      "Saved /kaggle/working/MIMIC III/LOS/train/LOS_WEEKS_adm_train_part_16.csv\n",
      "Saved /kaggle/working/MIMIC III/LOS/train/LOS_WEEKS_adm_train_part_17.csv\n",
      "Saved /kaggle/working/MIMIC III/LOS/train/LOS_WEEKS_adm_train_part_18.csv\n",
      "Saved /kaggle/working/MIMIC III/LOS/train/LOS_WEEKS_adm_train_part_19.csv\n",
      "Saved /kaggle/working/MIMIC III/LOS/train/LOS_WEEKS_adm_train_part_20.csv\n",
      "Saved /kaggle/working/MIMIC III/LOS/train/LOS_WEEKS_adm_train_part_21.csv\n",
      "Saved /kaggle/working/MIMIC III/LOS/train/LOS_WEEKS_adm_train_part_22.csv\n",
      "Saved /kaggle/working/MIMIC III/LOS/train/LOS_WEEKS_adm_train_part_23.csv\n",
      "Saved /kaggle/working/MIMIC III/LOS/train/LOS_WEEKS_adm_train_part_24.csv\n",
      "Saved /kaggle/working/MIMIC III/LOS/train/LOS_WEEKS_adm_train_part_25.csv\n",
      "Saved /kaggle/working/MIMIC III/LOS/train/LOS_WEEKS_adm_train_part_26.csv\n",
      "Saved /kaggle/working/MIMIC III/LOS/train/LOS_WEEKS_adm_train_part_27.csv\n",
      "Saved /kaggle/working/MIMIC III/LOS/train/LOS_WEEKS_adm_train_part_28.csv\n",
      "Saved /kaggle/working/MIMIC III/LOS/train/LOS_WEEKS_adm_train_part_29.csv\n",
      "Saved /kaggle/working/MIMIC III/LOS/train/LOS_WEEKS_adm_train_part_30.csv\n",
      "Saved /kaggle/working/MIMIC III/LOS/train/LOS_WEEKS_adm_train_part_31.csv\n"
     ]
    }
   ],
   "source": [
    "import os\n",
    "import pandas as pd\n",
    "\n",
    "# Load the data\n",
    "file_path = '/kaggle/input/savedir/MIMIC III/LOS_WEEKS_adm_train.csv'  # Replace with your actual file path\n",
    "data = pd.read_csv(file_path)\n",
    "\n",
    "# Set the chunk size\n",
    "chunk_size = 1000\n",
    "\n",
    "# Define the output directory and create it if it doesn't exist\n",
    "output_dir = '/kaggle/working/MIMIC III/LOS/train'\n",
    "os.makedirs(output_dir, exist_ok=True)  # Create the directory if it doesn't exist\n",
    "\n",
    "# Split data into chunks of 1000 rows each\n",
    "file_splits = [data[i:i + chunk_size] for i in range(0, data.shape[0], chunk_size)]\n",
    "\n",
    "# Save each chunk as a new CSV file\n",
    "for idx, chunk in enumerate(file_splits, start=1):\n",
    "    output_path = f'{output_dir}/LOS_WEEKS_adm_train_part_{idx}.csv'\n",
    "    chunk.to_csv(output_path, index=False)\n",
    "    print(f\"Saved {output_path}\")"
   ]
  },
  {
   "cell_type": "code",
   "execution_count": 2,
   "id": "0d2e8758",
   "metadata": {
    "execution": {
     "iopub.execute_input": "2024-11-06T13:53:08.843682Z",
     "iopub.status.busy": "2024-11-06T13:53:08.843279Z",
     "iopub.status.idle": "2024-11-06T13:53:09.348965Z",
     "shell.execute_reply": "2024-11-06T13:53:09.347536Z"
    },
    "papermill": {
     "duration": 0.513868,
     "end_time": "2024-11-06T13:53:09.351315",
     "exception": false,
     "start_time": "2024-11-06T13:53:08.837447",
     "status": "completed"
    },
    "tags": []
   },
   "outputs": [
    {
     "name": "stdout",
     "output_type": "stream",
     "text": [
      "Saved /kaggle/working/MIMIC III/LOS/val/LOS_WEEKS_adm_val_part_1.csv\n",
      "Saved /kaggle/working/MIMIC III/LOS/val/LOS_WEEKS_adm_val_part_2.csv\n",
      "Saved /kaggle/working/MIMIC III/LOS/val/LOS_WEEKS_adm_val_part_3.csv\n",
      "Saved /kaggle/working/MIMIC III/LOS/val/LOS_WEEKS_adm_val_part_4.csv\n",
      "Saved /kaggle/working/MIMIC III/LOS/val/LOS_WEEKS_adm_val_part_5.csv\n"
     ]
    }
   ],
   "source": [
    "import os\n",
    "import pandas as pd\n",
    "\n",
    "# Load the data\n",
    "file_path = '/kaggle/input/savedir/MIMIC III/LOS_WEEKS_adm_val.csv'  # Replace with your actual file path\n",
    "data = pd.read_csv(file_path)\n",
    "\n",
    "# Set the chunk size\n",
    "chunk_size = 1000\n",
    "\n",
    "# Define the output directory and create it if it doesn't exist\n",
    "output_dir = '/kaggle/working/MIMIC III/LOS/val'\n",
    "os.makedirs(output_dir, exist_ok=True)  # Create the directory if it doesn't exist\n",
    "\n",
    "# Split data into chunks of 1000 rows each\n",
    "file_splits = [data[i:i + chunk_size] for i in range(0, data.shape[0], chunk_size)]\n",
    "\n",
    "# Save each chunk as a new CSV file\n",
    "for idx, chunk in enumerate(file_splits, start=1):\n",
    "    output_path = f'{output_dir}/LOS_WEEKS_adm_val_part_{idx}.csv'\n",
    "    chunk.to_csv(output_path, index=False)\n",
    "    print(f\"Saved {output_path}\")"
   ]
  },
  {
   "cell_type": "code",
   "execution_count": 3,
   "id": "754b4b50",
   "metadata": {
    "_cell_guid": "b1076dfc-b9ad-4769-8c92-a6c4dae69d19",
    "_uuid": "8f2839f25d086af736a60e9eeb907d3b93b6e0e5",
    "execution": {
     "iopub.execute_input": "2024-11-06T13:53:09.359810Z",
     "iopub.status.busy": "2024-11-06T13:53:09.358871Z",
     "iopub.status.idle": "2024-11-06T13:53:10.311406Z",
     "shell.execute_reply": "2024-11-06T13:53:10.310136Z"
    },
    "papermill": {
     "duration": 0.959114,
     "end_time": "2024-11-06T13:53:10.313618",
     "exception": false,
     "start_time": "2024-11-06T13:53:09.354504",
     "status": "completed"
    },
    "tags": []
   },
   "outputs": [
    {
     "name": "stdout",
     "output_type": "stream",
     "text": [
      "Saved /kaggle/working/MIMIC III/LOS/test/LOS_WEEKS_adm_test_part_1.csv\n",
      "Saved /kaggle/working/MIMIC III/LOS/test/LOS_WEEKS_adm_test_part_2.csv\n",
      "Saved /kaggle/working/MIMIC III/LOS/test/LOS_WEEKS_adm_test_part_3.csv\n",
      "Saved /kaggle/working/MIMIC III/LOS/test/LOS_WEEKS_adm_test_part_4.csv\n",
      "Saved /kaggle/working/MIMIC III/LOS/test/LOS_WEEKS_adm_test_part_5.csv\n",
      "Saved /kaggle/working/MIMIC III/LOS/test/LOS_WEEKS_adm_test_part_6.csv\n",
      "Saved /kaggle/working/MIMIC III/LOS/test/LOS_WEEKS_adm_test_part_7.csv\n",
      "Saved /kaggle/working/MIMIC III/LOS/test/LOS_WEEKS_adm_test_part_8.csv\n",
      "Saved /kaggle/working/MIMIC III/LOS/test/LOS_WEEKS_adm_test_part_9.csv\n"
     ]
    }
   ],
   "source": [
    "import os\n",
    "import pandas as pd\n",
    "\n",
    "# Load the data\n",
    "file_path = '/kaggle/input/savedir/MIMIC III/LOS_WEEKS_adm_test.csv'  # Replace with your actual file path\n",
    "data = pd.read_csv(file_path)\n",
    "\n",
    "# Set the chunk size\n",
    "chunk_size = 1000\n",
    "\n",
    "# Define the output directory and create it if it doesn't exist\n",
    "output_dir = '/kaggle/working/MIMIC III/LOS/test'\n",
    "os.makedirs(output_dir, exist_ok=True)  # Create the directory if it doesn't exist\n",
    "\n",
    "# Split data into chunks of 1000 rows each\n",
    "file_splits = [data[i:i + chunk_size] for i in range(0, data.shape[0], chunk_size)]\n",
    "\n",
    "# Save each chunk as a new CSV file\n",
    "for idx, chunk in enumerate(file_splits, start=1):\n",
    "    output_path = f'{output_dir}/LOS_WEEKS_adm_test_part_{idx}.csv'\n",
    "    chunk.to_csv(output_path, index=False)\n",
    "    print(f\"Saved {output_path}\")"
   ]
  },
  {
   "cell_type": "code",
   "execution_count": 4,
   "id": "b8e91b76",
   "metadata": {
    "execution": {
     "iopub.execute_input": "2024-11-06T13:53:10.321943Z",
     "iopub.status.busy": "2024-11-06T13:53:10.321574Z",
     "iopub.status.idle": "2024-11-06T13:53:14.280132Z",
     "shell.execute_reply": "2024-11-06T13:53:14.278815Z"
    },
    "papermill": {
     "duration": 3.965308,
     "end_time": "2024-11-06T13:53:14.282422",
     "exception": false,
     "start_time": "2024-11-06T13:53:10.317114",
     "status": "completed"
    },
    "tags": []
   },
   "outputs": [
    {
     "name": "stdout",
     "output_type": "stream",
     "text": [
      "Saved /kaggle/working/MIMIC III/MP/train/MP_IN_adm_train_part_1.csv\n",
      "Saved /kaggle/working/MIMIC III/MP/train/MP_IN_adm_train_part_2.csv\n",
      "Saved /kaggle/working/MIMIC III/MP/train/MP_IN_adm_train_part_3.csv\n",
      "Saved /kaggle/working/MIMIC III/MP/train/MP_IN_adm_train_part_4.csv\n",
      "Saved /kaggle/working/MIMIC III/MP/train/MP_IN_adm_train_part_5.csv\n",
      "Saved /kaggle/working/MIMIC III/MP/train/MP_IN_adm_train_part_6.csv\n",
      "Saved /kaggle/working/MIMIC III/MP/train/MP_IN_adm_train_part_7.csv\n",
      "Saved /kaggle/working/MIMIC III/MP/train/MP_IN_adm_train_part_8.csv\n",
      "Saved /kaggle/working/MIMIC III/MP/train/MP_IN_adm_train_part_9.csv\n",
      "Saved /kaggle/working/MIMIC III/MP/train/MP_IN_adm_train_part_10.csv\n",
      "Saved /kaggle/working/MIMIC III/MP/train/MP_IN_adm_train_part_11.csv\n",
      "Saved /kaggle/working/MIMIC III/MP/train/MP_IN_adm_train_part_12.csv\n",
      "Saved /kaggle/working/MIMIC III/MP/train/MP_IN_adm_train_part_13.csv\n",
      "Saved /kaggle/working/MIMIC III/MP/train/MP_IN_adm_train_part_14.csv\n",
      "Saved /kaggle/working/MIMIC III/MP/train/MP_IN_adm_train_part_15.csv\n",
      "Saved /kaggle/working/MIMIC III/MP/train/MP_IN_adm_train_part_16.csv\n",
      "Saved /kaggle/working/MIMIC III/MP/train/MP_IN_adm_train_part_17.csv\n",
      "Saved /kaggle/working/MIMIC III/MP/train/MP_IN_adm_train_part_18.csv\n",
      "Saved /kaggle/working/MIMIC III/MP/train/MP_IN_adm_train_part_19.csv\n",
      "Saved /kaggle/working/MIMIC III/MP/train/MP_IN_adm_train_part_20.csv\n",
      "Saved /kaggle/working/MIMIC III/MP/train/MP_IN_adm_train_part_21.csv\n",
      "Saved /kaggle/working/MIMIC III/MP/train/MP_IN_adm_train_part_22.csv\n",
      "Saved /kaggle/working/MIMIC III/MP/train/MP_IN_adm_train_part_23.csv\n",
      "Saved /kaggle/working/MIMIC III/MP/train/MP_IN_adm_train_part_24.csv\n",
      "Saved /kaggle/working/MIMIC III/MP/train/MP_IN_adm_train_part_25.csv\n",
      "Saved /kaggle/working/MIMIC III/MP/train/MP_IN_adm_train_part_26.csv\n",
      "Saved /kaggle/working/MIMIC III/MP/train/MP_IN_adm_train_part_27.csv\n",
      "Saved /kaggle/working/MIMIC III/MP/train/MP_IN_adm_train_part_28.csv\n",
      "Saved /kaggle/working/MIMIC III/MP/train/MP_IN_adm_train_part_29.csv\n",
      "Saved /kaggle/working/MIMIC III/MP/train/MP_IN_adm_train_part_30.csv\n",
      "Saved /kaggle/working/MIMIC III/MP/train/MP_IN_adm_train_part_31.csv\n",
      "Saved /kaggle/working/MIMIC III/MP/train/MP_IN_adm_train_part_32.csv\n",
      "Saved /kaggle/working/MIMIC III/MP/train/MP_IN_adm_train_part_33.csv\n",
      "Saved /kaggle/working/MIMIC III/MP/train/MP_IN_adm_train_part_34.csv\n"
     ]
    }
   ],
   "source": [
    "import os\n",
    "import pandas as pd\n",
    "\n",
    "# Load the data\n",
    "file_path = '/kaggle/input/savedir/MIMIC III/MP_IN_adm_train.csv'  # Replace with your actual file path\n",
    "data = pd.read_csv(file_path)\n",
    "\n",
    "# Set the chunk size\n",
    "chunk_size = 1000\n",
    "\n",
    "# Define the output directory and create it if it doesn't exist\n",
    "output_dir = '/kaggle/working/MIMIC III/MP/train'\n",
    "os.makedirs(output_dir, exist_ok=True)  # Create the directory if it doesn't exist\n",
    "\n",
    "# Split data into chunks of 1000 rows each\n",
    "file_splits = [data[i:i + chunk_size] for i in range(0, data.shape[0], chunk_size)]\n",
    "\n",
    "# Save each chunk as a new CSV file\n",
    "for idx, chunk in enumerate(file_splits, start=1):\n",
    "    output_path = f'{output_dir}/MP_IN_adm_train_part_{idx}.csv'\n",
    "    chunk.to_csv(output_path, index=False)\n",
    "    print(f\"Saved {output_path}\")"
   ]
  },
  {
   "cell_type": "code",
   "execution_count": 5,
   "id": "ab4d2d61",
   "metadata": {
    "execution": {
     "iopub.execute_input": "2024-11-06T13:53:14.292128Z",
     "iopub.status.busy": "2024-11-06T13:53:14.291747Z",
     "iopub.status.idle": "2024-11-06T13:53:15.375901Z",
     "shell.execute_reply": "2024-11-06T13:53:15.374883Z"
    },
    "papermill": {
     "duration": 1.091688,
     "end_time": "2024-11-06T13:53:15.378276",
     "exception": false,
     "start_time": "2024-11-06T13:53:14.286588",
     "status": "completed"
    },
    "tags": []
   },
   "outputs": [
    {
     "name": "stdout",
     "output_type": "stream",
     "text": [
      "Saved /kaggle/working/MIMIC III/MP/test/MP_IN_adm_test_part_1.csv\n",
      "Saved /kaggle/working/MIMIC III/MP/test/MP_IN_adm_test_part_2.csv\n",
      "Saved /kaggle/working/MIMIC III/MP/test/MP_IN_adm_test_part_3.csv\n",
      "Saved /kaggle/working/MIMIC III/MP/test/MP_IN_adm_test_part_4.csv\n",
      "Saved /kaggle/working/MIMIC III/MP/test/MP_IN_adm_test_part_5.csv\n",
      "Saved /kaggle/working/MIMIC III/MP/test/MP_IN_adm_test_part_6.csv\n",
      "Saved /kaggle/working/MIMIC III/MP/test/MP_IN_adm_test_part_7.csv\n",
      "Saved /kaggle/working/MIMIC III/MP/test/MP_IN_adm_test_part_8.csv\n",
      "Saved /kaggle/working/MIMIC III/MP/test/MP_IN_adm_test_part_9.csv\n",
      "Saved /kaggle/working/MIMIC III/MP/test/MP_IN_adm_test_part_10.csv\n"
     ]
    }
   ],
   "source": [
    "import os\n",
    "import pandas as pd\n",
    "\n",
    "# Load the data\n",
    "file_path = '/kaggle/input/savedir/MIMIC III/MP_IN_adm_test.csv'  # Replace with your actual file path\n",
    "data = pd.read_csv(file_path)\n",
    "\n",
    "# Set the chunk size\n",
    "chunk_size = 1000\n",
    "\n",
    "# Define the output directory and create it if it doesn't exist\n",
    "output_dir = '/kaggle/working/MIMIC III/MP/test'\n",
    "os.makedirs(output_dir, exist_ok=True)  # Create the directory if it doesn't exist\n",
    "\n",
    "# Split data into chunks of 1000 rows each\n",
    "file_splits = [data[i:i + chunk_size] for i in range(0, data.shape[0], chunk_size)]\n",
    "\n",
    "# Save each chunk as a new CSV file\n",
    "for idx, chunk in enumerate(file_splits, start=1):\n",
    "    output_path = f'{output_dir}/MP_IN_adm_test_part_{idx}.csv'\n",
    "    chunk.to_csv(output_path, index=False)\n",
    "    print(f\"Saved {output_path}\")"
   ]
  },
  {
   "cell_type": "code",
   "execution_count": 6,
   "id": "630c68a4",
   "metadata": {
    "execution": {
     "iopub.execute_input": "2024-11-06T13:53:15.388422Z",
     "iopub.status.busy": "2024-11-06T13:53:15.388022Z",
     "iopub.status.idle": "2024-11-06T13:53:15.922086Z",
     "shell.execute_reply": "2024-11-06T13:53:15.920972Z"
    },
    "papermill": {
     "duration": 0.541757,
     "end_time": "2024-11-06T13:53:15.924390",
     "exception": false,
     "start_time": "2024-11-06T13:53:15.382633",
     "status": "completed"
    },
    "tags": []
   },
   "outputs": [
    {
     "name": "stdout",
     "output_type": "stream",
     "text": [
      "Saved /kaggle/working/MIMIC III/MP/val/MP_IN_adm_val_part_1.csv\n",
      "Saved /kaggle/working/MIMIC III/MP/val/MP_IN_adm_val_part_2.csv\n",
      "Saved /kaggle/working/MIMIC III/MP/val/MP_IN_adm_val_part_3.csv\n",
      "Saved /kaggle/working/MIMIC III/MP/val/MP_IN_adm_val_part_4.csv\n",
      "Saved /kaggle/working/MIMIC III/MP/val/MP_IN_adm_val_part_5.csv\n"
     ]
    }
   ],
   "source": [
    "import os\n",
    "import pandas as pd\n",
    "\n",
    "# Load the data\n",
    "file_path = '/kaggle/input/savedir/MIMIC III/MP_IN_adm_val.csv'  # Replace with your actual file path\n",
    "data = pd.read_csv(file_path)\n",
    "\n",
    "# Set the chunk size\n",
    "chunk_size = 1000\n",
    "\n",
    "# Define the output directory and create it if it doesn't exist\n",
    "output_dir = '/kaggle/working/MIMIC III/MP/val'\n",
    "os.makedirs(output_dir, exist_ok=True)  # Create the directory if it doesn't exist\n",
    "\n",
    "# Split data into chunks of 1000 rows each\n",
    "file_splits = [data[i:i + chunk_size] for i in range(0, data.shape[0], chunk_size)]\n",
    "\n",
    "# Save each chunk as a new CSV file\n",
    "for idx, chunk in enumerate(file_splits, start=1):\n",
    "    output_path = f'{output_dir}/MP_IN_adm_val_part_{idx}.csv'\n",
    "    chunk.to_csv(output_path, index=False)\n",
    "    print(f\"Saved {output_path}\")"
   ]
  },
  {
   "cell_type": "code",
   "execution_count": 7,
   "id": "c98708b5",
   "metadata": {
    "execution": {
     "iopub.execute_input": "2024-11-06T13:53:15.935199Z",
     "iopub.status.busy": "2024-11-06T13:53:15.934796Z",
     "iopub.status.idle": "2024-11-06T13:53:31.315688Z",
     "shell.execute_reply": "2024-11-06T13:53:31.314505Z"
    },
    "papermill": {
     "duration": 15.390307,
     "end_time": "2024-11-06T13:53:31.319441",
     "exception": false,
     "start_time": "2024-11-06T13:53:15.929134",
     "status": "completed"
    },
    "tags": []
   },
   "outputs": [
    {
     "name": "stdout",
     "output_type": "stream",
     "text": [
      "Created zip file: /kaggle/working/MIMIC_III.zip\n"
     ]
    }
   ],
   "source": [
    "import shutil\n",
    "import os\n",
    "\n",
    "# Define the directory to zip\n",
    "dir_to_zip = '/kaggle/working/MIMIC III'\n",
    "\n",
    "# Define the output zip file path\n",
    "zip_file_path = '/kaggle/working/MIMIC_III.zip'\n",
    "\n",
    "# Zip the directory\n",
    "shutil.make_archive(zip_file_path.replace('.zip', ''), 'zip', dir_to_zip)\n",
    "\n",
    "print(f\"Created zip file: {zip_file_path}\")"
   ]
  }
 ],
 "metadata": {
  "kaggle": {
   "accelerator": "none",
   "dataSources": [
    {
     "datasetId": 5787083,
     "sourceId": 9507849,
     "sourceType": "datasetVersion"
    }
   ],
   "dockerImageVersionId": 30786,
   "isGpuEnabled": false,
   "isInternetEnabled": true,
   "language": "python",
   "sourceType": "notebook"
  },
  "kernelspec": {
   "display_name": "Python 3",
   "language": "python",
   "name": "python3"
  },
  "language_info": {
   "codemirror_mode": {
    "name": "ipython",
    "version": 3
   },
   "file_extension": ".py",
   "mimetype": "text/x-python",
   "name": "python",
   "nbconvert_exporter": "python",
   "pygments_lexer": "ipython3",
   "version": "3.10.14"
  },
  "papermill": {
   "default_parameters": {},
   "duration": 30.296242,
   "end_time": "2024-11-06T13:53:31.747484",
   "environment_variables": {},
   "exception": null,
   "input_path": "__notebook__.ipynb",
   "output_path": "__notebook__.ipynb",
   "parameters": {},
   "start_time": "2024-11-06T13:53:01.451242",
   "version": "2.6.0"
  }
 },
 "nbformat": 4,
 "nbformat_minor": 5
}
